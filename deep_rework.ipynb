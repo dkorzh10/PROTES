{
 "cells": [
  {
   "cell_type": "code",
   "execution_count": 1,
   "id": "ce2e0b6f",
   "metadata": {},
   "outputs": [
    {
     "name": "stdout",
     "output_type": "stream",
     "text": [
      "Fri Dec 22 11:39:58 2023       \n",
      "+---------------------------------------------------------------------------------------+\n",
      "| NVIDIA-SMI 535.129.03             Driver Version: 535.129.03   CUDA Version: 12.2     |\n",
      "|-----------------------------------------+----------------------+----------------------+\n",
      "| GPU  Name                 Persistence-M | Bus-Id        Disp.A | Volatile Uncorr. ECC |\n",
      "| Fan  Temp   Perf          Pwr:Usage/Cap |         Memory-Usage | GPU-Util  Compute M. |\n",
      "|                                         |                      |               MIG M. |\n",
      "|=========================================+======================+======================|\n",
      "|   0  Tesla V100-SXM2-16GB           On  | 00000000:06:00.0 Off |                    0 |\n",
      "| N/A   35C    P0              71W / 300W |      3MiB / 16384MiB |      0%   E. Process |\n",
      "|                                         |                      |                  N/A |\n",
      "+-----------------------------------------+----------------------+----------------------+\n",
      "|   1  Tesla V100-SXM2-16GB           On  | 00000000:07:00.0 Off |                    0 |\n",
      "| N/A   61C    P0             299W / 300W |   8567MiB / 16384MiB |     88%   E. Process |\n",
      "|                                         |                      |                  N/A |\n",
      "+-----------------------------------------+----------------------+----------------------+\n",
      "|   2  Tesla V100-SXM2-16GB           On  | 00000000:0A:00.0 Off |                    0 |\n",
      "| N/A   51C    P0              73W / 300W |  15549MiB / 16384MiB |      0%   E. Process |\n",
      "|                                         |                      |                  N/A |\n",
      "+-----------------------------------------+----------------------+----------------------+\n",
      "|   3  Tesla V100-SXM2-16GB           On  | 00000000:0B:00.0 Off |                    0 |\n",
      "| N/A   31C    P0              41W / 300W |      3MiB / 16384MiB |      0%   E. Process |\n",
      "|                                         |                      |                  N/A |\n",
      "+-----------------------------------------+----------------------+----------------------+\n",
      "|   4  Tesla V100-SXM2-16GB           On  | 00000000:85:00.0 Off |                    0 |\n",
      "| N/A   51C    P0             319W / 300W |   4583MiB / 16384MiB |     97%   E. Process |\n",
      "|                                         |                      |                  N/A |\n",
      "+-----------------------------------------+----------------------+----------------------+\n",
      "|   5  Tesla V100-SXM2-16GB           On  | 00000000:86:00.0 Off |                    0 |\n",
      "| N/A   37C    P0              43W / 300W |      3MiB / 16384MiB |      0%   E. Process |\n",
      "|                                         |                      |                  N/A |\n",
      "+-----------------------------------------+----------------------+----------------------+\n",
      "|   6  Tesla V100-SXM2-16GB           On  | 00000000:89:00.0 Off |                    0 |\n",
      "| N/A   53C    P0             251W / 300W |  15895MiB / 16384MiB |     28%   E. Process |\n",
      "|                                         |                      |                  N/A |\n",
      "+-----------------------------------------+----------------------+----------------------+\n",
      "|   7  Tesla V100-SXM2-16GB           On  | 00000000:8A:00.0 Off |                    0 |\n",
      "| N/A   34C    P0              58W / 300W |    879MiB / 16384MiB |      0%   E. Process |\n",
      "|                                         |                      |                  N/A |\n",
      "+-----------------------------------------+----------------------+----------------------+\n",
      "                                                                                         \n",
      "+---------------------------------------------------------------------------------------+\n",
      "| Processes:                                                                            |\n",
      "|  GPU   GI   CI        PID   Type   Process name                            GPU Memory |\n",
      "|        ID   ID                                                             Usage      |\n",
      "|=======================================================================================|\n",
      "+---------------------------------------------------------------------------------------+\n"
     ]
    }
   ],
   "source": [
    "!nvidia-smi"
   ]
  },
  {
   "cell_type": "code",
   "execution_count": 2,
   "id": "ddc9af6e",
   "metadata": {},
   "outputs": [
    {
     "name": "stdout",
     "output_type": "stream",
     "text": [
      "env: CUDA_DEVICE_ORDER=PCI_BUS_ID\n",
      "env: CUDA_VISIBLE_DEVICES=0\n"
     ]
    }
   ],
   "source": [
    "%load_ext autoreload\n",
    "%autoreload 2\n",
    "\n",
    "# %cd PROTES\n",
    "\n",
    "%env CUDA_DEVICE_ORDER=PCI_BUS_ID\n",
    "%env CUDA_VISIBLE_DEVICES=0"
   ]
  },
  {
   "cell_type": "code",
   "execution_count": 3,
   "id": "af1f4156",
   "metadata": {},
   "outputs": [],
   "source": [
    "# !pip install -r requirements.txt\n",
    "# !pip install transformers"
   ]
  },
  {
   "cell_type": "code",
   "execution_count": null,
   "id": "f2f0d038",
   "metadata": {},
   "outputs": [],
   "source": []
  },
  {
   "cell_type": "code",
   "execution_count": 1,
   "id": "2b323a2a",
   "metadata": {},
   "outputs": [],
   "source": [
    "import math\n",
    "\n",
    "import jax\n",
    "jax.config.update('jax_enable_x64', True)\n",
    "import numpy as np\n",
    "import torch\n",
    "from torch.nn.functional import softmax, log_softmax\n",
    "from torch.optim import AdamW\n",
    "from transformers import AutoModelForCausalLM, AutoTokenizer\n",
    "from tqdm.notebook import tqdm\n",
    "\n",
    "from protes import protes_gpt, protes\n",
    "\n",
    "import matplotlib.pyplot as plt\n",
    "\n",
    "device = \"cuda\" if torch.cuda.is_available() else \"cpu\""
   ]
  },
  {
   "cell_type": "markdown",
   "id": "8a7fba95",
   "metadata": {},
   "source": [
    "# Creating something"
   ]
  },
  {
   "cell_type": "code",
   "execution_count": 2,
   "id": "2051f7d3",
   "metadata": {},
   "outputs": [],
   "source": [
    "softmax = torch.nn.Softmax(dim=-1)\n",
    "logsoftmax = torch.nn.LogSoftmax(dim=-1)"
   ]
  },
  {
   "cell_type": "code",
   "execution_count": 37,
   "id": "ab938176",
   "metadata": {},
   "outputs": [],
   "source": [
    "def custom_nll_loss(probs, I):\n",
    "    \"\"\"\n",
    "    probs: 1 x (1 + d) x n logsoftmax of logits\n",
    "    I:      1 x (1 + d)\n",
    "    where 1 is added becaus of SOS token in the beggining\n",
    "    how to deal with bs > 1 properly i don't understand so far\n",
    "    \"\"\"\n",
    "    loss = 0\n",
    "\n",
    "    bs, seq_len, _ = probs.shape\n",
    "    P = probs\n",
    "    for j in range(bs):\n",
    "        for i in range(1, seq_len):   # for i in range(1, seq_len):\n",
    "            loss += P[j, i, I[j, i]] \n",
    "\n",
    "    loss = torch.sum(loss, dim=0)\n",
    "    return -loss\n",
    "\n",
    "\n",
    "\n",
    "#     scores = model.compute_transition_scores(\n",
    "#                 sequences=outputs.sequences,\n",
    "#                 scores=outputs.scores,\n",
    "#             )\n",
    "#     loss = scores[idx][:, -1].mean()"
   ]
  },
  {
   "cell_type": "code",
   "execution_count": 38,
   "id": "e38acbbe",
   "metadata": {},
   "outputs": [],
   "source": [
    "def trainer(model, func, d, m, k, k_top, is_max, n):\n",
    "\n",
    "    best_func_value = -torch.inf if is_max else torch.inf\n",
    "    best_idx = None\n",
    "\n",
    "    prompt = torch.tensor([[n + 1]]).to(device)\n",
    "    \n",
    "    for i in tqdm(range(math.ceil(m / k))):\n",
    "        outputs =  model.generate(\n",
    "            prompt,\n",
    "            attention_mask=torch.ones_like(prompt), # torch.ones_like(prompt).to(device), torch.tril(torch.ones(1, d)).to(device)\n",
    "            max_new_tokens=d,\n",
    "\n",
    "            do_sample=True,\n",
    "            num_beams=1,\n",
    "            num_return_sequences=k,\n",
    "            top_k=0,\n",
    "            temperature=0.5,\n",
    "            length_penalty=0,\n",
    "\n",
    "            output_scores=True,\n",
    "            return_dict_in_generate=True, \n",
    "            renormalize_logits=True, \n",
    "            output_hidden_states=True,\n",
    "            \n",
    "            pad_token_id=n+2,\n",
    "            eos_token_id=n+2,\n",
    "            bos_token_id=n+1,\n",
    "        )\n",
    "        I = outputs.sequences\n",
    "        \n",
    "        calculated_f = func(I[:, 1:])\n",
    "        val, idx = torch.topk(calculated_f.squeeze(), largest=is_max, k=1)\n",
    "\n",
    "#         print(val)\n",
    "        \n",
    "\n",
    "        if is_max and (val > best_func_value):\n",
    "            best_func_value = val\n",
    "            best_idx = I[idx, 1:]\n",
    "        \n",
    "        if not is_max and (val < best_func_value):\n",
    "            best_func_value = val\n",
    "            best_idx = I[idx, 1:]\n",
    "        \n",
    "        _, idxes = torch.topk(calculated_f.squeeze(), largest=is_max, k=k_top)\n",
    "        batch_of_best_I = I[idxes] ### ??? [idxes, 1:]\n",
    "        \n",
    "        optimizer.zero_grad()\n",
    "        logits = model.forward(batch_of_best_I, attention_mask=torch.ones_like(batch_of_best_I)).logits\n",
    "        \n",
    "#         logits = model(batch_of_best_I, attention_mask=torch.tril(torch.ones_like(batch_of_best_I))).logits\n",
    "        logits = logsoftmax(logits)\n",
    "        \n",
    "        loss = criterion(logits, batch_of_best_I)\n",
    "        loss.backward()\n",
    "\n",
    "        optimizer.step()\n",
    "\n",
    "        if i % 10 == 0:\n",
    "            print('batch {} loss: {} best_value {}'.format(i, loss.item(), best_func_value.item()))\n",
    "    \n",
    "\n",
    "    return best_func_value, best_idx, model, logits"
   ]
  },
  {
   "cell_type": "markdown",
   "id": "43cecd64",
   "metadata": {},
   "source": [
    "## Simple delta-functions"
   ]
  },
  {
   "cell_type": "code",
   "execution_count": 39,
   "id": "87f215db",
   "metadata": {},
   "outputs": [],
   "source": [
    "a = -3\n",
    "b = 3\n",
    "\n",
    "n = 1000 #50257 #len(tokenizer)\n",
    "d = 1\n",
    "\n",
    "m = 200_000\n",
    "k = 512\n",
    "k_top = 128\n",
    "is_max = True\n",
    "log = True\n",
    "\n",
    "\n",
    "beta = torch.tensor([0.1]).to(\"cuda:0\")\n",
    "\n",
    "def f_simple(I):\n",
    "#     I = (I - 1) / (n) * (b - a) + a\n",
    "    I = I / (n - 1) * (b - a) + a\n",
    "    f = torch.exp(- (I[:, :] - 1) ** 2 / beta ** 2) / torch.sqrt(torch.pi * torch.abs(beta))\n",
    "    return f\n",
    "\n",
    "\n",
    "func = f_simple"
   ]
  },
  {
   "cell_type": "code",
   "execution_count": 107,
   "id": "df69c940",
   "metadata": {},
   "outputs": [],
   "source": [
    "xs = np.linspace(a, b, n)\n",
    "f = f_simple(torch.tensor(np.arange(0, n).reshape(-1, 1)).to(\"cuda:0\"))"
   ]
  },
  {
   "cell_type": "code",
   "execution_count": 110,
   "id": "554af1bc",
   "metadata": {},
   "outputs": [
    {
     "data": {
      "image/png": "[encoded data removed]",
      "text/plain": [
       "<Figure size 640x480 with 1 Axes>"
      ]
     },
     "metadata": {},
     "output_type": "display_data"
    }
   ],
   "source": [
    "plt.plot(np.arange(0, n), f.cpu())\n",
    "plt.title(\"GT 1d delta-function\")\n",
    "plt.show()"
   ]
  },
  {
   "cell_type": "code",
   "execution_count": 42,
   "id": "9f312221",
   "metadata": {},
   "outputs": [
    {
     "data": {
      "application/vnd.jupyter.widget-view+json": {
       "model_id": "2d2ec93143e44fda9f90755fec2cc9dd",
       "version_major": 2,
       "version_minor": 0
      },
      "text/plain": [
       "  0%|          | 0/391 [00:00<?, ?it/s]"
      ]
     },
     "metadata": {},
     "output_type": "display_data"
    },
    {
     "name": "stdout",
     "output_type": "stream",
     "text": [
      "batch 0 loss: 1078.2987060546875 best_value 1.0612914562225342\n",
      "batch 10 loss: 345.7694091796875 best_value 1.6302706003189087\n",
      "batch 20 loss: 5.109002113342285 best_value 1.7841241359710693\n",
      "batch 30 loss: 1.4002851247787476 best_value 1.7841241359710693\n",
      "batch 40 loss: 0.1674259752035141 best_value 1.7841241359710693\n",
      "batch 50 loss: 0.22096899151802063 best_value 1.7841241359710693\n",
      "batch 60 loss: 0.14122389256954193 best_value 1.7841241359710693\n",
      "batch 70 loss: 0.451621949672699 best_value 1.7841241359710693\n",
      "batch 80 loss: 2.2368874549865723 best_value 1.7841241359710693\n",
      "batch 90 loss: 0.5058247447013855 best_value 1.7841241359710693\n",
      "batch 100 loss: 0.10934137552976608 best_value 1.7841241359710693\n",
      "batch 110 loss: 0.9447064995765686 best_value 1.7841241359710693\n",
      "batch 120 loss: 0.35570377111434937 best_value 1.7841241359710693\n",
      "batch 130 loss: 0.050943367183208466 best_value 1.7841241359710693\n",
      "batch 140 loss: 0.06148308515548706 best_value 1.7841241359710693\n",
      "batch 150 loss: 0.14811764657497406 best_value 1.7841241359710693\n",
      "batch 160 loss: 0.13622823357582092 best_value 1.7841241359710693\n",
      "batch 170 loss: 0.09565626829862595 best_value 1.7841241359710693\n",
      "batch 180 loss: 0.457947313785553 best_value 1.7841241359710693\n",
      "batch 190 loss: 0.061962246894836426 best_value 1.7841241359710693\n",
      "batch 200 loss: 0.03861428052186966 best_value 1.7841241359710693\n",
      "batch 210 loss: 0.16248928010463715 best_value 1.7841241359710693\n",
      "batch 220 loss: 0.9975048899650574 best_value 1.7841241359710693\n",
      "batch 230 loss: 0.12055297940969467 best_value 1.7841241359710693\n",
      "batch 240 loss: 0.11533690243959427 best_value 1.7841241359710693\n",
      "batch 250 loss: 0.21989691257476807 best_value 1.7841241359710693\n",
      "batch 260 loss: 0.044616032391786575 best_value 1.7841241359710693\n",
      "batch 270 loss: 0.015666041523218155 best_value 1.7841241359710693\n",
      "batch 280 loss: 0.09245423972606659 best_value 1.7841241359710693\n",
      "batch 290 loss: 0.33375486731529236 best_value 1.7841241359710693\n",
      "batch 300 loss: 0.17295952141284943 best_value 1.7841241359710693\n",
      "batch 310 loss: 0.026975329965353012 best_value 1.7841241359710693\n",
      "batch 320 loss: 0.004421724937856197 best_value 1.7841241359710693\n",
      "batch 330 loss: 0.013505698181688786 best_value 1.7841241359710693\n",
      "batch 340 loss: 0.017307842150330544 best_value 1.7841241359710693\n",
      "batch 350 loss: 0.035446032881736755 best_value 1.7841241359710693\n",
      "batch 360 loss: 0.014516111463308334 best_value 1.7841241359710693\n",
      "batch 370 loss: 0.010028037242591381 best_value 1.7841241359710693\n",
      "batch 380 loss: 0.04037337005138397 best_value 1.7841241359710693\n",
      "batch 390 loss: 0.006276405416429043 best_value 1.7841241359710693\n",
      "PROTES_GPT: i_opt = tensor([[666]], device='cuda:0'), x_opt = tensor([[1.]], device='cuda:0') f_opt = tensor([1.7841], device='cuda:0')\n"
     ]
    }
   ],
   "source": [
    "# model = AutoModelForCausalLM.from_pretrained(\"gpt2\", bos_token_id=n+1, pad_token_id=n+2).to(device)\n",
    "model = AutoModelForCausalLM.from_pretrained(\"gpt2\", bos_token_id=n+1, pad_token_id=n+2).to(device)\n",
    "model.resize_token_embeddings(n + 2)\n",
    "model.train()\n",
    "\n",
    "\n",
    "model.config.bos_token_id = n + 1\n",
    "model.config.pad_token_id = n + 2\n",
    "model.config.eos_token_id = n + 2\n",
    "\n",
    "model.generation_config.bos_token_id = n + 1\n",
    "model.generation_config.pad_token_id = n + 2\n",
    "model.generation_config.eos_token_id = n + 2\n",
    "\n",
    "\n",
    "optimizer = AdamW(model.parameters(), lr=1e-5)\n",
    "criterion = custom_nll_loss\n",
    "\n",
    "best_func_value, best_idx, model, outputs = trainer(model=model, func=func, d=d, m=m, k=k, k_top=k_top, is_max=is_max, n=n)\n",
    "\n",
    "print(f\"PROTES_GPT: i_opt = {best_idx}, x_opt = {(best_idx) / (n-1) * (b-a) + a} f_opt = {best_func_value}\")"
   ]
  },
  {
   "cell_type": "code",
   "execution_count": 45,
   "id": "3d3c1906",
   "metadata": {},
   "outputs": [
    {
     "name": "stdout",
     "output_type": "stream",
     "text": [
      "tensor(128., device='cuda:0', grad_fn=<SumBackward0>)\n"
     ]
    }
   ],
   "source": [
    "print(torch.exp(outputs[:, 1, :n]).sum())"
   ]
  },
  {
   "cell_type": "code",
   "execution_count": 59,
   "id": "a2d5449c",
   "metadata": {},
   "outputs": [
    {
     "data": {
      "text/plain": [
       "torch.Size([128, 2, 1002])"
      ]
     },
     "execution_count": 59,
     "metadata": {},
     "output_type": "execute_result"
    }
   ],
   "source": [
    "outputs.shape"
   ]
  },
  {
   "cell_type": "code",
   "execution_count": 65,
   "id": "c605480b",
   "metadata": {},
   "outputs": [
    {
     "name": "stdout",
     "output_type": "stream",
     "text": [
      "torch.Size([128, 1002])\n"
     ]
    },
    {
     "data": {
      "text/plain": [
       "Text(0.5, 1.0, 'Argmax 620')"
      ]
     },
     "execution_count": 65,
     "metadata": {},
     "output_type": "execute_result"
    },
    {
     "data": {
      "image/png": "[encoded data removed]",
      "text/plain": [
       "<Figure size 640x480 with 1 Axes>"
      ]
     },
     "metadata": {},
     "output_type": "display_data"
    }
   ],
   "source": [
    "PPs = torch.exp(outputs[:, 1, :n+2])\n",
    "print(PPs.shape)\n",
    "dist = PPs.mean(dim=0).cpu().detach().numpy()\n",
    "plt.plot(dist)\n",
    "plt.title(f\"Argmax {dist.argmax()}\")"
   ]
  },
  {
   "cell_type": "code",
   "execution_count": 69,
   "id": "a889937a",
   "metadata": {},
   "outputs": [
    {
     "name": "stdout",
     "output_type": "stream",
     "text": [
      "torch.Size([128, 1002])\n"
     ]
    },
    {
     "data": {
      "text/plain": [
       "Text(0.5, 1.0, 'Argmax 694')"
      ]
     },
     "execution_count": 69,
     "metadata": {},
     "output_type": "execute_result"
    },
    {
     "data": {
      "image/png": "[encoded data removed]",
      "text/plain": [
       "<Figure size 640x480 with 1 Axes>"
      ]
     },
     "metadata": {},
     "output_type": "display_data"
    }
   ],
   "source": [
    "PPs = torch.exp(outputs[:, 1, :n+2])\n",
    "print(PPs.shape)\n",
    "dist = PPs[2].cpu().detach().numpy()\n",
    "plt.plot(dist)\n",
    "plt.title(f\"Argmax {dist.argmax()}\")"
   ]
  },
  {
   "cell_type": "markdown",
   "id": "224212f2",
   "metadata": {},
   "source": [
    "## Simple 2d delta-function"
   ]
  },
  {
   "cell_type": "code",
   "execution_count": 70,
   "id": "fd227c89",
   "metadata": {},
   "outputs": [],
   "source": [
    "a = -3\n",
    "b = 3\n",
    "\n",
    "n = 1001 #50257 #len(tokenizer)\n",
    "d = 2\n",
    "\n",
    "m = 600_000\n",
    "k = 1024\n",
    "k_top = 256\n",
    "is_max = True\n",
    "log = True\n",
    "\n",
    "\n",
    "beta = torch.tensor([0.1]).to(\"cuda:0\")\n",
    "\n",
    "def f_simple(I):\n",
    "#     I = (I - 1) / (n) * (b - a) + a\n",
    "    I = I / (n - 1) * (b - a) + a\n",
    "    f = torch.exp(- ((I[:, 0] - 1) ** 2 +  (I[:, 1] - 2) ** 2)/ beta ** 2 ) / torch.sqrt(torch.pi * torch.abs(beta))\n",
    "    return f\n",
    "\n",
    "\n",
    "func = f_simple"
   ]
  },
  {
   "cell_type": "code",
   "execution_count": 71,
   "id": "f930fec8",
   "metadata": {},
   "outputs": [
    {
     "data": {
      "application/vnd.jupyter.widget-view+json": {
       "model_id": "da4cd073139446308476caed14fdb9b5",
       "version_major": 2,
       "version_minor": 0
      },
      "text/plain": [
       "  0%|          | 0/586 [00:00<?, ?it/s]"
      ]
     },
     "metadata": {},
     "output_type": "display_data"
    },
    {
     "name": "stdout",
     "output_type": "stream",
     "text": [
      "batch 0 loss: 4268.4130859375 best_value 0.0\n",
      "batch 10 loss: 4387.341796875 best_value 0.0002602481108624488\n",
      "batch 20 loss: 4331.23046875 best_value 0.0002602481108624488\n",
      "batch 30 loss: 4351.5126953125 best_value 1.549182415008545\n",
      "batch 40 loss: 4290.86279296875 best_value 1.549182415008545\n",
      "batch 50 loss: 4355.0029296875 best_value 1.549182415008545\n",
      "batch 60 loss: 4379.6826171875 best_value 1.549182415008545\n",
      "batch 70 loss: 4342.18359375 best_value 1.549182415008545\n",
      "batch 80 loss: 4414.9833984375 best_value 1.549182415008545\n",
      "batch 90 loss: 4364.470703125 best_value 1.549182415008545\n",
      "batch 100 loss: 4253.56640625 best_value 1.549182415008545\n",
      "batch 110 loss: 4275.1953125 best_value 1.549182415008545\n",
      "batch 120 loss: 4312.298828125 best_value 1.549182415008545\n",
      "batch 130 loss: 4429.5166015625 best_value 1.549182415008545\n",
      "batch 140 loss: 4289.32373046875 best_value 1.549182415008545\n",
      "batch 150 loss: 4257.1845703125 best_value 1.549182415008545\n",
      "batch 160 loss: 4366.0439453125 best_value 1.549182415008545\n",
      "batch 170 loss: 4331.5048828125 best_value 1.549182415008545\n",
      "batch 180 loss: 4172.92041015625 best_value 1.549182415008545\n",
      "batch 190 loss: 4318.86181640625 best_value 1.549182415008545\n",
      "batch 200 loss: 4302.23486328125 best_value 1.549182415008545\n",
      "batch 210 loss: 4370.41748046875 best_value 1.549182415008545\n",
      "batch 220 loss: 4300.8818359375 best_value 1.549182415008545\n",
      "batch 230 loss: 4266.6142578125 best_value 1.549182415008545\n",
      "batch 240 loss: 4360.63427734375 best_value 1.549182415008545\n",
      "batch 250 loss: 4197.54638671875 best_value 1.549182415008545\n",
      "batch 260 loss: 4376.009765625 best_value 1.549182415008545\n",
      "batch 270 loss: 4359.548828125 best_value 1.549182415008545\n",
      "batch 280 loss: 4210.96435546875 best_value 1.549182415008545\n",
      "batch 290 loss: 4281.14453125 best_value 1.549182415008545\n",
      "batch 300 loss: 4345.912109375 best_value 1.549182415008545\n",
      "batch 310 loss: 4331.81396484375 best_value 1.549182415008545\n",
      "batch 320 loss: 4405.2001953125 best_value 1.549182415008545\n",
      "batch 330 loss: 4358.419921875 best_value 1.549182415008545\n",
      "batch 340 loss: 4403.03369140625 best_value 1.549182415008545\n",
      "batch 350 loss: 4259.73974609375 best_value 1.549182415008545\n",
      "batch 360 loss: 4318.55810546875 best_value 1.549182415008545\n",
      "batch 370 loss: 4272.072265625 best_value 1.549182415008545\n",
      "batch 380 loss: 4284.83837890625 best_value 1.549182415008545\n",
      "batch 390 loss: 4300.65771484375 best_value 1.549182415008545\n",
      "batch 400 loss: 4261.00732421875 best_value 1.549182415008545\n",
      "batch 410 loss: 4254.82763671875 best_value 1.549182415008545\n",
      "batch 420 loss: 4203.2568359375 best_value 1.549182415008545\n",
      "batch 430 loss: 4266.06591796875 best_value 1.549182415008545\n",
      "batch 440 loss: 4249.966796875 best_value 1.549182415008545\n",
      "batch 450 loss: 4342.6064453125 best_value 1.549182415008545\n",
      "batch 460 loss: 4098.59423828125 best_value 1.549182415008545\n",
      "batch 470 loss: 4314.1455078125 best_value 1.549182415008545\n",
      "batch 480 loss: 4348.23779296875 best_value 1.549182415008545\n",
      "batch 490 loss: 4366.28466796875 best_value 1.549182415008545\n",
      "batch 500 loss: 4359.7255859375 best_value 1.549182415008545\n",
      "batch 510 loss: 4342.55419921875 best_value 1.549182415008545\n",
      "batch 520 loss: 4251.79931640625 best_value 1.549182415008545\n",
      "batch 530 loss: 4372.37353515625 best_value 1.549182415008545\n",
      "batch 540 loss: 4340.61767578125 best_value 1.549182415008545\n",
      "batch 550 loss: 4374.5947265625 best_value 1.549182415008545\n",
      "batch 560 loss: 4294.1845703125 best_value 1.549182415008545\n",
      "batch 570 loss: 4371.62890625 best_value 1.549182415008545\n",
      "batch 580 loss: 4202.36279296875 best_value 1.549182415008545\n",
      "PROTES_GPT: i_opt = tensor([[661, 836]], device='cuda:0'), x_opt = tensor([[0.9660, 2.0160]], device='cuda:0') f_opt = tensor([1.5492], device='cuda:0')\n"
     ]
    }
   ],
   "source": [
    "# model = AutoModelForCausalLM.from_pretrained(\"gpt2\", bos_token_id=n+1, pad_token_id=n+2).to(device)\n",
    "model = AutoModelForCausalLM.from_pretrained(\"gpt2\", bos_token_id=n+1, pad_token_id=n+2).to(device)\n",
    "model.resize_token_embeddings(n + 2)\n",
    "model.train()\n",
    "\n",
    "\n",
    "model.config.bos_token_id = n + 1\n",
    "model.config.pad_token_id = n + 2\n",
    "model.config.eos_token_id = n + 2\n",
    "\n",
    "model.generation_config.bos_token_id = n + 1\n",
    "model.generation_config.pad_token_id = n + 2\n",
    "model.generation_config.eos_token_id = n + 2\n",
    "\n",
    "\n",
    "optimizer = AdamW(model.parameters(), lr=1e-9)\n",
    "criterion = custom_nll_loss\n",
    "\n",
    "best_func_value, best_idx, model, outputs = trainer(model=model, func=func, d=d, m=m, k=k, k_top=k_top, is_max=is_max, n=n)\n",
    "\n",
    "print(f\"PROTES_GPT: i_opt = {best_idx}, x_opt = {(best_idx) / (n-1) * (b-a) + a} f_opt = {best_func_value}\")"
   ]
  },
  {
   "cell_type": "code",
   "execution_count": null,
   "id": "014babe8",
   "metadata": {},
   "outputs": [],
   "source": []
  },
  {
   "cell_type": "code",
   "execution_count": 72,
   "id": "b6f60fd4",
   "metadata": {},
   "outputs": [
    {
     "name": "stdout",
     "output_type": "stream",
     "text": [
      "tensor([[1.0020, 2.0040]], device='cuda:0')\n"
     ]
    },
    {
     "data": {
      "text/plain": [
       "tensor([1.7806], device='cuda:0')"
      ]
     },
     "execution_count": 72,
     "metadata": {},
     "output_type": "execute_result"
    }
   ],
   "source": [
    "# I = torch.tensor([\n",
    "#     [1, 2]\n",
    "# ]).to(\"cuda:0\")\n",
    "\n",
    "\n",
    "I = torch.tensor([\n",
    "    [667, 834]\n",
    "]).to(\"cuda:0\")\n",
    "I = I / (n - 1) * (b - a) + a\n",
    "print(I)\n",
    "\n",
    "torch.exp(- ((I[:, 0] - 1) ** 2 +  (I[:, 1] - 2) ** 2)/ beta ** 2 ) / torch.sqrt(torch.pi * torch.abs(beta))"
   ]
  },
  {
   "cell_type": "code",
   "execution_count": 74,
   "id": "e884aa05",
   "metadata": {},
   "outputs": [
    {
     "data": {
      "text/plain": [
       "torch.Size([256, 3, 1003])"
      ]
     },
     "execution_count": 74,
     "metadata": {},
     "output_type": "execute_result"
    }
   ],
   "source": [
    "outputs.shape"
   ]
  },
  {
   "cell_type": "code",
   "execution_count": 99,
   "id": "3d877165",
   "metadata": {},
   "outputs": [],
   "source": [
    "# xs = np.linspace(a, b, n)\n",
    "# B, D = np.meshgrid(xs, xs)\n",
    "# plt.contourf(B, D, nu)\n",
    "# plt.colorbar()\n",
    "# plt.xlabel('b')\n",
    "# plt.ylabel('d')\n",
    "# plt.show()"
   ]
  },
  {
   "cell_type": "code",
   "execution_count": 94,
   "id": "6bc18fdb",
   "metadata": {},
   "outputs": [],
   "source": [
    "PPs_x = torch.exp(outputs[:, 1, :n+2]).mean(dim=0).cpu().detach()\n",
    "PPs_y = torch.exp(outputs[:, 2, :n+2]).mean(dim=0).cpu().detach()\n",
    "PPs = torch.outer(PPs_x, PPs_y)"
   ]
  },
  {
   "cell_type": "code",
   "execution_count": 95,
   "id": "beba8016",
   "metadata": {},
   "outputs": [
    {
     "data": {
      "text/plain": [
       "torch.Size([1003])"
      ]
     },
     "execution_count": 95,
     "metadata": {},
     "output_type": "execute_result"
    }
   ],
   "source": [
    "PPs_x.shape"
   ]
  },
  {
   "cell_type": "code",
   "execution_count": 96,
   "id": "bf421575",
   "metadata": {},
   "outputs": [
    {
     "data": {
      "text/plain": [
       "tensor(1.0000)"
      ]
     },
     "execution_count": 96,
     "metadata": {},
     "output_type": "execute_result"
    }
   ],
   "source": [
    "PPs_x.sum()"
   ]
  },
  {
   "cell_type": "code",
   "execution_count": 118,
   "id": "48ea8bda",
   "metadata": {},
   "outputs": [],
   "source": []
  },
  {
   "cell_type": "code",
   "execution_count": 116,
   "id": "2ef23eda",
   "metadata": {},
   "outputs": [
    {
     "data": {
      "image/png": "[encoded data removed]",
      "text/plain": [
       "<Figure size 640x480 with 1 Axes>"
      ]
     },
     "metadata": {},
     "output_type": "display_data"
    }
   ],
   "source": [
    "plt.plot(PPs_x)\n",
    "plt.title(\"Px\")\n",
    "plt.show()"
   ]
  },
  {
   "cell_type": "code",
   "execution_count": 117,
   "id": "713783e3",
   "metadata": {},
   "outputs": [
    {
     "data": {
      "image/png": "[encoded data removed]",
      "text/plain": [
       "<Figure size 640x480 with 1 Axes>"
      ]
     },
     "metadata": {},
     "output_type": "display_data"
    }
   ],
   "source": [
    "plt.plot(PPs_y.cpu())\n",
    "plt.title(\"Py\")\n",
    "plt.show()"
   ]
  },
  {
   "cell_type": "code",
   "execution_count": 121,
   "id": "0ed9f500",
   "metadata": {},
   "outputs": [
    {
     "data": {
      "image/png": "[encoded data removed]",
      "text/plain": [
       "<Figure size 1920x1440 with 2 Axes>"
      ]
     },
     "metadata": {},
     "output_type": "display_data"
    }
   ],
   "source": [
    "plt.figure(dpi=300)\n",
    "plt.contourf(PPs.cpu())\n",
    "plt.colorbar(cmap=\"grey\")\n",
    "plt.xlabel('x1')\n",
    "plt.ylabel('x2')\n",
    "plt.savefig(\"fig1.pdf\")\n",
    "plt.show()"
   ]
  },
  {
   "cell_type": "code",
   "execution_count": 27,
   "id": "2fef04e9",
   "metadata": {},
   "outputs": [
    {
     "data": {
      "text/plain": [
       "(tensor([[-15.9031, -13.8535, -20.6170,  ..., -24.0271, -15.9628, -13.4543],\n",
       "         [-17.1246, -18.2690, -25.3726,  ..., -28.3913, -18.3185, -16.5401],\n",
       "         [-15.1332, -14.5951, -23.4702,  ..., -21.4286, -17.0911, -16.1156],\n",
       "         ...,\n",
       "         [-15.1531, -14.7714, -20.5292,  ..., -21.2355, -19.2516, -14.0850],\n",
       "         [-18.1588, -16.5051, -23.3979,  ..., -20.8745, -16.0955, -14.5102],\n",
       "         [ -8.4902,  -8.1386, -13.4718,  ..., -15.2941, -12.9932, -10.7383]],\n",
       "        device='cuda:0'),\n",
       " tensor([[-17.8118, -19.1472, -26.3180,  ..., -30.7216, -23.6940, -25.1335],\n",
       "         [-22.8397, -23.8037, -29.3727,  ..., -29.1212, -35.0991, -28.0738],\n",
       "         [-16.9033, -17.7493, -26.1317,  ..., -25.3282, -27.7786, -22.6237],\n",
       "         ...,\n",
       "         [-17.8647, -17.8704, -25.8006,  ..., -28.4496, -28.5572, -22.5848],\n",
       "         [-20.8544, -22.2271, -29.8303,  ..., -31.6359, -33.1249, -26.4340],\n",
       "         [-15.2705, -15.3996, -18.3852,  ..., -24.8732, -10.4343, -13.4265]],\n",
       "        device='cuda:0'))"
      ]
     },
     "execution_count": 27,
     "metadata": {},
     "output_type": "execute_result"
    }
   ],
   "source": [
    "PPs"
   ]
  },
  {
   "cell_type": "code",
   "execution_count": null,
   "id": "8657b4e4",
   "metadata": {},
   "outputs": [],
   "source": []
  },
  {
   "cell_type": "code",
   "execution_count": null,
   "id": "aad5126f",
   "metadata": {},
   "outputs": [],
   "source": []
  },
  {
   "cell_type": "code",
   "execution_count": null,
   "id": "cb351de9",
   "metadata": {},
   "outputs": [],
   "source": []
  },
  {
   "cell_type": "code",
   "execution_count": null,
   "id": "affbc9b4",
   "metadata": {},
   "outputs": [],
   "source": []
  },
  {
   "cell_type": "code",
   "execution_count": null,
   "id": "65d301a7",
   "metadata": {},
   "outputs": [],
   "source": []
  },
  {
   "cell_type": "code",
   "execution_count": null,
   "id": "d6458e18",
   "metadata": {},
   "outputs": [],
   "source": []
  },
  {
   "cell_type": "code",
   "execution_count": null,
   "id": "d2a79bba",
   "metadata": {},
   "outputs": [],
   "source": []
  },
  {
   "cell_type": "code",
   "execution_count": null,
   "id": "0b64c890",
   "metadata": {},
   "outputs": [],
   "source": []
  },
  {
   "cell_type": "code",
   "execution_count": null,
   "id": "d40a4e90",
   "metadata": {},
   "outputs": [],
   "source": []
  },
  {
   "cell_type": "code",
   "execution_count": null,
   "id": "63fe66ac",
   "metadata": {},
   "outputs": [],
   "source": []
  },
  {
   "cell_type": "code",
   "execution_count": null,
   "id": "5a4cb8d0",
   "metadata": {},
   "outputs": [],
   "source": []
  },
  {
   "cell_type": "code",
   "execution_count": null,
   "id": "343c2afa",
   "metadata": {},
   "outputs": [],
   "source": []
  },
  {
   "cell_type": "code",
   "execution_count": null,
   "id": "e5b843d3",
   "metadata": {},
   "outputs": [],
   "source": []
  },
  {
   "cell_type": "code",
   "execution_count": null,
   "id": "f0216795",
   "metadata": {},
   "outputs": [],
   "source": []
  },
  {
   "cell_type": "code",
   "execution_count": null,
   "id": "e37cdaf0",
   "metadata": {},
   "outputs": [],
   "source": []
  },
  {
   "cell_type": "code",
   "execution_count": null,
   "id": "e8a3a13d",
   "metadata": {},
   "outputs": [],
   "source": []
  },
  {
   "cell_type": "code",
   "execution_count": null,
   "id": "5d6c5bda",
   "metadata": {},
   "outputs": [],
   "source": [
    "from transformers import GPT2Tokenizer, AutoModelForCausalLM\n",
    "import numpy as np\n",
    "\n",
    "tokenizer = GPT2Tokenizer.from_pretrained(\"gpt2\")\n",
    "model = AutoModelForCausalLM.from_pretrained(\"gpt2\")\n",
    "tokenizer.pad_token_id = tokenizer.eos_token_id\n",
    "inputs = tokenizer([\"Today is\"], return_tensors=\"pt\")\n",
    "\n",
    "# Example 1: Print the scores for each token generated with Greedy Search\n",
    "outputs = model.generate(**inputs, max_new_tokens=5, return_dict_in_generate=True, output_scores=True)\n",
    "transition_scores = model.compute_transition_scores(\n",
    "    outputs.sequences, outputs.scores, normalize_logits=True\n",
    ")\n",
    "# input_length is the length of the input prompt for decoder-only models, like the GPT family, and 1 for\n",
    "# encoder-decoder models, like BART or T5.\n",
    "input_length = 1 if model.config.is_encoder_decoder else inputs.input_ids.shape[1]\n",
    "generated_tokens = outputs.sequences[:, input_length:]\n",
    "for tok, score in zip(generated_tokens[0], transition_scores[0]):\n",
    "    # | token | token string | logits | probability\n",
    "    print(f\"| {tok:5d} | {tokenizer.decode(tok):8s} | {score.numpy():.3f} | {np.exp(score.numpy()):.2%}\")\n",
    "\n",
    "# Example 2: Reconstruct the sequence scores from Beam Search\n",
    "outputs = model.generate(\n",
    "    **inputs,\n",
    "    max_new_tokens=5,\n",
    "    num_beams=4,\n",
    "    num_return_sequences=4,\n",
    "    return_dict_in_generate=True,\n",
    "    output_scores=True,\n",
    ")\n",
    "transition_scores = model.compute_transition_scores(\n",
    "    outputs.sequences, outputs.scores, outputs.beam_indices, normalize_logits=False\n",
    ")\n",
    "# If you sum the generated tokens' scores and apply the length penalty, you'll get the sequence scores.\n",
    "# Tip 1: recomputing the scores is only guaranteed to match with `normalize_logits=False`. Depending on the\n",
    "# use case, you might want to recompute it with `normalize_logits=True`.\n",
    "# Tip 2: the output length does NOT include the input length\n",
    "output_length = np.sum(transition_scores.numpy() < 0, axis=1)\n",
    "length_penalty = model.generation_config.length_penalty\n",
    "reconstructed_scores = transition_scores.sum(axis=1) / (output_length**length_penalty)\n",
    "print(np.allclose(outputs.sequences_scores, reconstructed_scores))"
   ]
  },
  {
   "cell_type": "markdown",
   "id": "2a4de9f5",
   "metadata": {},
   "source": [
    "### Rosenbrock"
   ]
  },
  {
   "cell_type": "code",
   "execution_count": 129,
   "id": "0a9c7282",
   "metadata": {},
   "outputs": [],
   "source": [
    "a = -3\n",
    "b = 3\n",
    "\n",
    "n = 1000 #50257 #len(tokenizer)\n",
    "d = 2\n",
    "\n",
    "m = 80000\n",
    "k = 512\n",
    "k_top = 64\n",
    "is_max = False\n",
    "log = True\n",
    "\n",
    "def f_rosenbrock(I):\n",
    "#     I = (I - 1) / (n) * (b - a) + a\n",
    "    I = I / (n - 1) * (b - a) + a\n",
    "    f = (1 - I[:, 0]) ** 2 + 100 * (I[:, 1] - I[:, 0] ** 2) ** 2 \n",
    "    return f\n",
    "\n",
    "def f_rosenbrock_jax(I):\n",
    "    I = (I) / (n - 1) * (b-a) + a\n",
    "    f = (1 - I[:, 0]) ** 2 + 100 * (I[:, 1] - I[:, 0] ** 2) ** 2 \n",
    "    return f\n",
    "\n",
    "func = f_rosenbrock"
   ]
  },
  {
   "cell_type": "code",
   "execution_count": 130,
   "id": "4fbeb8fe",
   "metadata": {},
   "outputs": [],
   "source": [
    "# model = AutoModelForCausalLM.from_pretrained(\"gpt2\", pad_token_id=0, bos_token_id=0).to(device)\n",
    "# word_embeddings = model.transformer.wte.weight\n",
    "# word_embeddings.shape\n",
    "# model.resize_token_embeddings(1 + n)\n",
    "# word_embeddings1 = model.transformer.wte.weight\n",
    "# word_embeddings1.shape\n",
    "# word_embeddings[0] - word_embeddings1[0]"
   ]
  },
  {
   "cell_type": "code",
   "execution_count": 131,
   "id": "33be3821",
   "metadata": {},
   "outputs": [
    {
     "data": {
      "text/plain": [
       "torch.Size([1002, 768])"
      ]
     },
     "execution_count": 131,
     "metadata": {},
     "output_type": "execute_result"
    }
   ],
   "source": [
    "# tokenizer = AutoTokenizer.from_pretrained(\"gpt2\", add_special_tokens=True)\n",
    "# tokenizer.bos_token_id\n",
    "# # add the EOS token as PAD token to avoid warnings\n",
    "# tokenizer.pad_token_id = tokenizer.eos_token_id\n",
    "# tokenizer.encode(\"<|endoftext|>\")\n",
    "\n",
    "# model = AutoModelForCausalLM.from_pretrained(\"gpt2\").to(device)  # pad_token_id=0, bos_token_id=0\n",
    "model = AutoModelForCausalLM.from_pretrained(\"gpt2\", bos_token_id=n+1, pad_token_id=n+2).to(device)\n",
    "model.resize_token_embeddings(n + 2)\n",
    "model.train()\n",
    "\n",
    "model.config.bos_token_id = n + 1\n",
    "model.config.pad_token_id = n + 2\n",
    "model.config.eos_token_id = n + 2\n",
    "\n",
    "model.generation_config.bos_token_id = n + 1\n",
    "model.generation_config.pad_token_id = n + 2\n",
    "model.generation_config.eos_token_id = n + 2\n",
    "\n",
    "\n",
    "word_embeddings1 = model.transformer.wte.weight\n",
    "word_embeddings1.shape"
   ]
  },
  {
   "cell_type": "code",
   "execution_count": 132,
   "id": "906e6b84",
   "metadata": {},
   "outputs": [
    {
     "name": "stdout",
     "output_type": "stream",
     "text": [
      "odict_keys(['logits', 'past_key_values'])\n",
      "torch.Size([3, 3, 1002])\n"
     ]
    },
    {
     "data": {
      "text/plain": [
       "torch.Size([3, 3, 1002])"
      ]
     },
     "execution_count": 132,
     "metadata": {},
     "output_type": "execute_result"
    }
   ],
   "source": [
    "idx = torch.tensor([\n",
    "    [0, 1, 102],\n",
    "    [0, 234, 88],\n",
    "    [0, 11, 22]\n",
    "])\n",
    "\n",
    "q = model.forward(idx.to(device), labels=None, attention_mask=torch.ones_like(idx).to(device))\n",
    "\n",
    "print(q.keys())\n",
    "print(q.logits.shape)\n",
    "logits = q.logits\n",
    "logsoftmax(logits[0][0])\n",
    "\n",
    "P = logsoftmax(logits)\n",
    "P.shape"
   ]
  },
  {
   "cell_type": "code",
   "execution_count": 133,
   "id": "6ac3aa9f",
   "metadata": {},
   "outputs": [
    {
     "data": {
      "text/plain": [
       "tensor(-12013.9902, device='cuda:0', grad_fn=<SumBackward0>)"
      ]
     },
     "execution_count": 133,
     "metadata": {},
     "output_type": "execute_result"
    }
   ],
   "source": [
    "logits[0][0].sum()"
   ]
  },
  {
   "cell_type": "code",
   "execution_count": 134,
   "id": "ec9b7d4e",
   "metadata": {},
   "outputs": [],
   "source": [
    "# model.forward(idx.to(device), labels=None, attention_mask=torch.tril(torch.ones_like(idx)).to(device)).logits\n",
    "\n",
    "# model.generate(idx.to(device), attention_mask=torch.tril(torch.ones_like(idx)).to(device)) #.shape\n",
    "\n",
    "# model.generate(idx.to(device), attention_mask=torch.tril(torch.ones_like(idx)).to(device)) #.shape\n",
    "\n",
    "# model.generate(idx.to(device), attention_mask=torch.ones_like(idx).to(device)) #.shape\n",
    "\n",
    "# model.generate(idx.to(device), attention_mask=None) #.shape"
   ]
  },
  {
   "cell_type": "code",
   "execution_count": 135,
   "id": "dd5626ea",
   "metadata": {},
   "outputs": [
    {
     "data": {
      "text/plain": [
       "tensor(522.3870, device='cuda:0', grad_fn=<NegBackward0>)"
      ]
     },
     "execution_count": 135,
     "metadata": {},
     "output_type": "execute_result"
    }
   ],
   "source": [
    "custom_nll_loss(logits, idx)"
   ]
  },
  {
   "cell_type": "code",
   "execution_count": 136,
   "id": "6893f6a4",
   "metadata": {},
   "outputs": [],
   "source": [
    "optimizer = AdamW(model.parameters(), lr=1e-5)\n",
    "criterion = custom_nll_loss  # torch.nn.NLLLoss(reduction=\"mean\")"
   ]
  },
  {
   "cell_type": "code",
   "execution_count": 137,
   "id": "645c6022",
   "metadata": {},
   "outputs": [
    {
     "data": {
      "application/vnd.jupyter.widget-view+json": {
       "model_id": "da77d12853ca45c3acd7cc4247189d4a",
       "version_major": 2,
       "version_minor": 0
      },
      "text/plain": [
       "  0%|          | 0/157 [00:00<?, ?it/s]"
      ]
     },
     "metadata": {},
     "output_type": "display_data"
    },
    {
     "name": "stdout",
     "output_type": "stream",
     "text": [
      "batch 0 loss: 939.9915161132812 best_value 4.0\n",
      "batch 10 loss: 362.9800720214844 best_value 0.38506683707237244\n",
      "batch 20 loss: 24.426088333129883 best_value 0.08685888350009918\n",
      "batch 30 loss: 4.2209038734436035 best_value 0.08685888350009918\n",
      "batch 40 loss: 4.237652778625488 best_value 0.0\n",
      "batch 50 loss: 0.4761675000190735 best_value 0.0\n",
      "batch 60 loss: 1.527747631072998 best_value 0.0\n",
      "batch 70 loss: 0.4917508363723755 best_value 0.0\n",
      "batch 80 loss: 1.1520123481750488 best_value 0.0\n",
      "batch 90 loss: 0.843034029006958 best_value 0.0\n",
      "batch 100 loss: 0.341036319732666 best_value 0.0\n",
      "batch 110 loss: 0.35342445969581604 best_value 0.0\n",
      "batch 120 loss: 0.28568002581596375 best_value 0.0\n",
      "batch 130 loss: 0.0894063338637352 best_value 0.0\n",
      "batch 140 loss: 0.05941707268357277 best_value 0.0\n",
      "batch 150 loss: 0.27901408076286316 best_value 0.0\n"
     ]
    }
   ],
   "source": [
    "best_func_value, best_idx, model, outputs = trainer(model=model, func=func, d=d, m=m, k=k, k_top=k_top, is_max=is_max, n=n)"
   ]
  },
  {
   "cell_type": "code",
   "execution_count": 138,
   "id": "04ebd3c2",
   "metadata": {},
   "outputs": [
    {
     "data": {
      "text/plain": [
       "tensor([0.], device='cuda:0')"
      ]
     },
     "execution_count": 138,
     "metadata": {},
     "output_type": "execute_result"
    }
   ],
   "source": [
    "best_func_value"
   ]
  },
  {
   "cell_type": "code",
   "execution_count": 139,
   "id": "fbcab56f",
   "metadata": {},
   "outputs": [
    {
     "data": {
      "text/plain": [
       "tensor([[666, 666]], device='cuda:0')"
      ]
     },
     "execution_count": 139,
     "metadata": {},
     "output_type": "execute_result"
    }
   ],
   "source": [
    "best_idx"
   ]
  },
  {
   "cell_type": "code",
   "execution_count": 140,
   "id": "abe15708",
   "metadata": {},
   "outputs": [
    {
     "data": {
      "text/plain": [
       "tensor([[1., 1.]], device='cuda:0')"
      ]
     },
     "execution_count": 140,
     "metadata": {},
     "output_type": "execute_result"
    }
   ],
   "source": [
    "best_X = (best_idx) / (n - 1) * (b-a) + a\n",
    "best_X"
   ]
  },
  {
   "cell_type": "code",
   "execution_count": 141,
   "id": "8196d288",
   "metadata": {},
   "outputs": [
    {
     "name": "stderr",
     "output_type": "stream",
     "text": [
      "An NVIDIA GPU may be present on this machine, but a CUDA-enabled jaxlib is not installed. Falling back to cpu.\n"
     ]
    },
    {
     "name": "stdout",
     "output_type": "stream",
     "text": [
      "protes > m 5.1e+02 | t 4.784e+00 | y  1.2321e-01\n",
      "protes > m 1.0e+03 | t 4.823e+00 | y  8.4957e-02\n",
      "protes > m 1.5e+03 | t 4.845e+00 | y  4.6918e-02\n",
      "protes > m 4.1e+03 | t 4.939e+00 | y  1.6353e-02\n",
      "protes > m 8.2e+03 | t 5.097e+00 | y  3.5071e-03\n",
      "protes > m 1.5e+04 | t 5.384e+00 | y  3.3519e-04\n",
      "protes > m 2.4e+04 | t 5.708e+00 | y  1.4637e-04\n",
      "protes > m 8.0e+04 | t 8.056e+00 | y  1.4637e-04 <<< DONE\n",
      "i_opt = [664 662], x_opt = [0.98798799 0.97597598] f_opt = 0.00014637034775424478\n"
     ]
    }
   ],
   "source": [
    "# Original PROTES\n",
    "\n",
    "i_opt, y_opt, ll_list = protes(f=func,\n",
    "                          d=d, n=n, k=k, m=m, log=log, is_max=is_max,\n",
    "                        k_top=k_top, k_gd=1, lr=1e-3)\n",
    "\n",
    "print(f\"i_opt = {i_opt}, x_opt = {i_opt / (n-1) * (b-a) + a} f_opt = {y_opt}\")"
   ]
  },
  {
   "cell_type": "code",
   "execution_count": 142,
   "id": "826c9f75",
   "metadata": {},
   "outputs": [
    {
     "name": "stdout",
     "output_type": "stream",
     "text": [
      "protes > m 5.1e+02 | t 2.339e+00 | y  1.2321e-01\n",
      "protes > m 1.0e+03 | t 2.361e+00 | y  8.4957e-02\n",
      "protes > m 1.5e+03 | t 2.381e+00 | y  4.6918e-02\n",
      "protes > m 4.1e+03 | t 2.478e+00 | y  1.6353e-02\n",
      "protes > m 6.7e+03 | t 2.573e+00 | y  1.5518e-02\n",
      "protes > m 1.7e+04 | t 2.975e+00 | y  1.4704e-02\n",
      "protes > m 2.6e+04 | t 3.323e+00 | y  2.8416e-03\n",
      "protes > m 2.7e+04 | t 3.383e+00 | y  0.0000e+00\n",
      "protes > m 8.0e+04 | t 5.540e+00 | y  0.0000e+00 <<< DONE\n",
      "i_opt = [666 666], x_opt = [1. 1.] f_opt = 0.0\n"
     ]
    }
   ],
   "source": [
    "# Original PROTES lr smaller\n",
    "\n",
    "i_opt, y_opt, ll_list = protes(f=func,\n",
    "                          d=d, n=n, k=k, m=m, log=log, is_max=is_max,\n",
    "                        k_top=k_top, k_gd=1, lr=1e-5)\n",
    "\n",
    "print(f\"i_opt = {i_opt}, x_opt = {i_opt / (n-1) * (b-a) + a} f_opt = {y_opt}\")"
   ]
  },
  {
   "cell_type": "code",
   "execution_count": null,
   "id": "46e4ca9b",
   "metadata": {},
   "outputs": [],
   "source": []
  },
  {
   "cell_type": "markdown",
   "id": "9aa9d1b8",
   "metadata": {},
   "source": [
    "### Simple 3D"
   ]
  },
  {
   "cell_type": "code",
   "execution_count": 153,
   "id": "e7670488",
   "metadata": {},
   "outputs": [],
   "source": [
    "a = -6\n",
    "b = 6\n",
    "\n",
    "m = 550_000\n",
    "# n0 = 3439\n",
    "\n",
    "n = 1001\n",
    "d = 3\n",
    "k = 1024\n",
    "\n",
    "k_top = 128\n",
    "\n",
    "is_max = False\n",
    "log = True\n",
    "\n",
    "def f_3d_squares(I):\n",
    "    I = I / (n - 1) * (b - a) + a\n",
    "    x = I[:, 0]\n",
    "    y = I[:, 1]\n",
    "    z = I[:, 2]\n",
    "    f = (x - 5) ** 2 + (y - 2) ** 2 + (z + 1) ** 2\n",
    "    return f\n",
    "\n",
    "\n",
    "# def f_3d_squares_jax(I):\n",
    "#     I = (I) / (n-1) * (b-a) + a\n",
    "#     x = I[:, 0]\n",
    "#     y = I[:, 1]\n",
    "#     z = I[:, 2]\n",
    "#     f = (x - 5) ** 2 + (y - 2) ** 2 + (z + 1) ** 2\n",
    "#     return f\n",
    "\n",
    "func = f_3d_squares"
   ]
  },
  {
   "cell_type": "code",
   "execution_count": 154,
   "id": "1c6da9d6",
   "metadata": {},
   "outputs": [
    {
     "data": {
      "application/vnd.jupyter.widget-view+json": {
       "model_id": "167ad16f629e415c9c595c3649e67ab1",
       "version_major": 2,
       "version_minor": 0
      },
      "text/plain": [
       "  0%|          | 0/538 [00:00<?, ?it/s]"
      ]
     },
     "metadata": {},
     "output_type": "display_data"
    },
    {
     "name": "stdout",
     "output_type": "stream",
     "text": [
      "batch 0 loss: 3196.793701171875 best_value 15.621065139770508\n",
      "batch 10 loss: 1428.086669921875 best_value 1.356095790863037\n",
      "batch 20 loss: 92.38346862792969 best_value 0.9263042211532593\n",
      "batch 30 loss: 17.737253189086914 best_value 0.9263042211532593\n",
      "batch 40 loss: 10.967647552490234 best_value 0.9263042211532593\n",
      "batch 50 loss: 5.122114181518555 best_value 0.9263042211532593\n",
      "batch 60 loss: 3.9929022789001465 best_value 0.9263042211532593\n",
      "batch 70 loss: 2.2101500034332275 best_value 0.9263042211532593\n",
      "batch 80 loss: 2.1379644870758057 best_value 0.9263042211532593\n",
      "batch 90 loss: 1.8458961248397827 best_value 0.9263042211532593\n",
      "batch 100 loss: 4.581857204437256 best_value 0.9263042211532593\n",
      "batch 110 loss: 0.5991440415382385 best_value 0.9263042211532593\n",
      "batch 120 loss: 2.936614990234375 best_value 0.9263042211532593\n",
      "batch 130 loss: 1.5267701148986816 best_value 0.9263042211532593\n",
      "batch 140 loss: 3.683053970336914 best_value 0.9263042211532593\n",
      "batch 150 loss: 1.9307334423065186 best_value 0.9263042211532593\n",
      "batch 160 loss: 0.8292155265808105 best_value 0.9263042211532593\n",
      "batch 170 loss: 1.350926160812378 best_value 0.9263042211532593\n",
      "batch 180 loss: 0.8511021137237549 best_value 0.9263042211532593\n",
      "batch 190 loss: 3.30294132232666 best_value 0.9263042211532593\n",
      "batch 200 loss: 5.541271686553955 best_value 0.9263042211532593\n",
      "batch 210 loss: 0.8790777325630188 best_value 0.9263042211532593\n",
      "batch 220 loss: 0.6886153221130371 best_value 0.9263042211532593\n",
      "batch 230 loss: 0.8468804955482483 best_value 0.9263042211532593\n",
      "batch 240 loss: 1.5159640312194824 best_value 0.9263042211532593\n",
      "batch 250 loss: 0.2192782759666443 best_value 0.9263042211532593\n",
      "batch 260 loss: 0.8232923150062561 best_value 0.9263042211532593\n",
      "batch 270 loss: 0.362979531288147 best_value 0.9263042211532593\n",
      "batch 280 loss: 0.40914860367774963 best_value 0.9263042211532593\n",
      "batch 290 loss: 1.3402822017669678 best_value 0.9263042211532593\n",
      "batch 300 loss: 0.7365082502365112 best_value 0.9263042211532593\n",
      "batch 310 loss: 0.11506851762533188 best_value 0.9263042211532593\n",
      "batch 320 loss: 0.6673408150672913 best_value 0.9263042211532593\n",
      "batch 330 loss: 0.21194271743297577 best_value 0.9263042211532593\n",
      "batch 340 loss: 0.3319259285926819 best_value 0.9263042211532593\n",
      "batch 350 loss: 0.16174855828285217 best_value 0.9263042211532593\n",
      "batch 360 loss: 0.22193029522895813 best_value 0.9263042211532593\n",
      "batch 370 loss: 3.551926374435425 best_value 0.9263042211532593\n",
      "batch 380 loss: 0.18336795270442963 best_value 0.9263042211532593\n",
      "batch 390 loss: 0.2560417652130127 best_value 0.9263042211532593\n",
      "batch 400 loss: 0.141875758767128 best_value 0.9263042211532593\n",
      "batch 410 loss: 2.9129996299743652 best_value 0.9263042211532593\n",
      "batch 420 loss: 0.12463480234146118 best_value 0.9263042211532593\n",
      "batch 430 loss: 0.7063225507736206 best_value 0.9263042211532593\n",
      "batch 440 loss: 0.17876823246479034 best_value 0.9263042211532593\n",
      "batch 450 loss: 0.19009162485599518 best_value 0.9263042211532593\n",
      "batch 460 loss: 0.7875824570655823 best_value 0.9263042211532593\n",
      "batch 470 loss: 0.6961988806724548 best_value 0.9263042211532593\n",
      "batch 480 loss: 0.3643626570701599 best_value 0.9263042211532593\n",
      "batch 490 loss: 0.11764133721590042 best_value 0.9263042211532593\n",
      "batch 500 loss: 0.19025732576847076 best_value 0.9263042211532593\n",
      "batch 510 loss: 0.5073826313018799 best_value 0.9263042211532593\n",
      "batch 520 loss: 0.1753602772951126 best_value 0.9263042211532593\n",
      "batch 530 loss: 0.1514887511730194 best_value 0.9263042211532593\n",
      "PROTES_GPT: i_opt = tensor([[883, 734, 389]], device='cuda:0'), x_opt = tensor([[ 4.5960,  2.8080, -1.3320]], device='cuda:0') f_opt = tensor([0.9263], device='cuda:0')\n"
     ]
    }
   ],
   "source": [
    "# model = AutoModelForCausalLM.from_pretrained(\"gpt2\", bos_token_id=n+1, pad_token_id=n+2).to(device)\n",
    "model = AutoModelForCausalLM.from_pretrained(\"gpt2\", bos_token_id=n+1, pad_token_id=n+2).to(device)\n",
    "model.resize_token_embeddings(n + 2)\n",
    "model.train()\n",
    "\n",
    "\n",
    "model.config.bos_token_id = n + 1\n",
    "model.config.pad_token_id = n + 2\n",
    "model.config.eos_token_id = n + 2\n",
    "\n",
    "model.generation_config.bos_token_id = n + 1\n",
    "model.generation_config.pad_token_id = n + 2\n",
    "model.generation_config.eos_token_id = n + 2\n",
    "\n",
    "\n",
    "optimizer = AdamW(model.parameters(), lr=1e-5)\n",
    "criterion = custom_nll_loss\n",
    "\n",
    "best_func_value, best_idx, model, outputs = trainer(model=model, func=func, d=d, m=m, k=k, k_top=k_top, is_max=is_max, n=n)\n",
    "\n",
    "print(f\"PROTES_GPT: i_opt = {best_idx}, x_opt = {(best_idx) / (n-1) * (b-a) + a} f_opt = {best_func_value}\")"
   ]
  },
  {
   "cell_type": "code",
   "execution_count": 9,
   "id": "076c7dc5",
   "metadata": {},
   "outputs": [
    {
     "data": {
      "text/plain": [
       "195.3125"
      ]
     },
     "execution_count": 9,
     "metadata": {},
     "output_type": "execute_result"
    }
   ],
   "source": [
    "50000/256"
   ]
  },
  {
   "cell_type": "code",
   "execution_count": 155,
   "id": "70e63a84",
   "metadata": {},
   "outputs": [
    {
     "name": "stdout",
     "output_type": "stream",
     "text": [
      "protes > m 1.0e+03 | t 5.561e+00 | y  8.6914e-01\n",
      "protes > m 2.0e+03 | t 5.620e+00 | y  4.2667e-01\n",
      "protes > m 4.1e+03 | t 5.732e+00 | y  9.9456e-02\n",
      "protes > m 1.4e+04 | t 6.317e+00 | y  3.4848e-02\n",
      "protes > m 3.7e+04 | t 7.588e+00 | y  2.5392e-02\n",
      "protes > m 2.7e+05 | t 2.220e+01 | y  1.4928e-02\n",
      "protes > m 4.2e+05 | t 3.124e+01 | y  1.1136e-02\n",
      "protes > m 5.5e+05 | t 3.961e+01 | y  1.1136e-02 <<< DONE\n",
      "i_opt = [924 668 412], x_opt = [ 5.088  2.016 -1.056] f_opt = 0.011136000000000175\n"
     ]
    }
   ],
   "source": [
    "# Original PROTES\n",
    "\n",
    "i_opt, y_opt, ll_list = protes(f=func,\n",
    "                          d=d, n=n, k=k, m=m, log=log, is_max=is_max,\n",
    "                        k_top=k_top, k_gd=1, lr=1e-5)\n",
    "\n",
    "print(f\"i_opt = {i_opt}, x_opt = {i_opt / (n-1) * (b-a) + a} f_opt = {y_opt}\")"
   ]
  },
  {
   "cell_type": "code",
   "execution_count": null,
   "id": "7811c09c",
   "metadata": {},
   "outputs": [],
   "source": [
    "i_opt, y_opt, ll_list = protes(f=func,\n",
    "                          d=d, n=n, k=k, m=m, log=log, is_max=is_max,\n",
    "                        k_top=k_top, k_gd=1, lr=1e-1)\n",
    "\n",
    "print(f\"i_opt = {i_opt}, x_opt = {i_opt / (n-1) * (b-a) + a} f_opt = {y_opt}\")"
   ]
  },
  {
   "cell_type": "markdown",
   "id": "413e1da9",
   "metadata": {},
   "source": [
    "### nd"
   ]
  },
  {
   "cell_type": "code",
   "execution_count": 156,
   "id": "08230493",
   "metadata": {},
   "outputs": [],
   "source": [
    "a = 0\n",
    "b = 6\n",
    "\n",
    "\n",
    "n = 101\n",
    "d = 5\n",
    "m = 400_000\n",
    "\n",
    "k = 256\n",
    "\n",
    "k_top = 64\n",
    "\n",
    "is_max = False\n",
    "log = True\n",
    "\n",
    "def f_nd_squares(I):\n",
    "    I = (I) / (n-1) * (b-a) + a\n",
    "    bias = torch.arange(I[0].shape[0]) + 1\n",
    "    I = I - bias.to(I.device)\n",
    "    f = I[:, None, : ] @ I[:, :, None]\n",
    "    f = f.squeeze(-1).squeeze(-1)\n",
    "    return f\n",
    "\n",
    "\n",
    "func = f_nd_squares\n"
   ]
  },
  {
   "cell_type": "code",
   "execution_count": null,
   "id": "23d615e3",
   "metadata": {},
   "outputs": [],
   "source": [
    "model = AutoModelForCausalLM.from_pretrained(\"gpt2\", bos_token_id=n+1, pad_token_id=n+2).to(device)\n",
    "model.resize_token_embeddings(n + 2)\n",
    "model.train()\n",
    "\n",
    "model.config.bos_token_id = n + 1\n",
    "model.config.pad_token_id = n + 2\n",
    "model.config.eos_token_id = n + 2\n",
    "\n",
    "model.generation_config.bos_token_id = n + 1\n",
    "model.generation_config.pad_token_id = n + 2\n",
    "model.generation_config.eos_token_id = n + 2\n",
    "\n",
    "optimizer = AdamW(model.parameters(), lr=1e-8)\n",
    "criterion = custom_nll_loss"
   ]
  },
  {
   "cell_type": "code",
   "execution_count": null,
   "id": "61ce427b",
   "metadata": {},
   "outputs": [],
   "source": [
    "idx = torch.tensor([\n",
    "    [0, 1, 102],\n",
    "    [0, 234, 88],\n",
    "    [0, 11, 22]\n",
    "])"
   ]
  },
  {
   "cell_type": "code",
   "execution_count": null,
   "id": "6f3337ae",
   "metadata": {},
   "outputs": [],
   "source": [
    "func(idx).shape"
   ]
  },
  {
   "cell_type": "code",
   "execution_count": null,
   "id": "46dec852",
   "metadata": {},
   "outputs": [],
   "source": [
    "best_func_value, best_idx, model, outputs = trainer(model=model, func=func, d=d, m=m, k=k, k_top=k_top, is_max=is_max, n=n)\n",
    "\n",
    "print(f\"PROTES_GPT: i_opt = {best_idx}, x_opt = {(best_idx) / (n-1) * (b-a) + a} f_opt = {best_func_value}\")"
   ]
  },
  {
   "cell_type": "code",
   "execution_count": 31,
   "id": "a853004e",
   "metadata": {},
   "outputs": [
    {
     "name": "stdout",
     "output_type": "stream",
     "text": [
      "protes > m 2.6e+02 | t 4.481e+00 | y  9.5409e-01\n",
      "protes > m 2.6e+03 | t 4.555e+00 | y  5.7576e-01\n",
      "protes > m 6.7e+03 | t 4.686e+00 | y  5.5372e-01\n",
      "protes > m 1.4e+04 | t 4.913e+00 | y  5.3535e-01\n",
      "protes > m 3.3e+04 | t 5.543e+00 | y  4.4353e-01\n",
      "protes > m 3.6e+04 | t 5.631e+00 | y  4.0312e-01\n",
      "protes > m 4.4e+04 | t 5.893e+00 | y  3.9578e-01\n",
      "protes > m 4.8e+04 | t 6.008e+00 | y  2.1947e-01\n",
      "protes > m 7.5e+04 | t 6.866e+00 | y  1.4968e-01\n",
      "protes > m 1.0e+05 | t 7.667e+00 | y  1.4968e-01 <<< DONE\n",
      "i_opt = [17 30 49 65 88], x_opt = [1.03030303 1.81818182 2.96969697 3.93939394 5.33333333] f_opt = 0.1496786042240585\n"
     ]
    }
   ],
   "source": [
    "# Original PROTES\n",
    "\n",
    "def f_nd_squares_jax(I):\n",
    "    I = I / (n-1) * (b-a) + a\n",
    "    bias = np.arange(I[0].shape[0]) + 1\n",
    "    I = I - bias\n",
    "    f = I[:, None, : ] @ I[:, :, None]\n",
    "    f = f.squeeze(-1).squeeze(-1)\n",
    "    return f\n",
    "\n",
    "func_jax = f_nd_squares_jax\n",
    "\n",
    "i_opt, y_opt, ll_list = protes(f=func_jax,\n",
    "                          d=d, n=n, k=k, m=m, log=log, is_max=is_max,\n",
    "                        k_top=k_top, k_gd=1, lr=1e-3)\n",
    "\n",
    "print(f\"i_opt = {i_opt}, x_opt = {i_opt / (n-1) * (b-a) + a} f_opt = {y_opt}\")"
   ]
  },
  {
   "cell_type": "code",
   "execution_count": null,
   "id": "2c492a78",
   "metadata": {},
   "outputs": [],
   "source": []
  },
  {
   "cell_type": "code",
   "execution_count": null,
   "id": "0466c68f",
   "metadata": {},
   "outputs": [],
   "source": []
  },
  {
   "cell_type": "code",
   "execution_count": null,
   "id": "4a194456",
   "metadata": {},
   "outputs": [],
   "source": []
  },
  {
   "cell_type": "code",
   "execution_count": null,
   "id": "76752a2e",
   "metadata": {},
   "outputs": [],
   "source": []
  },
  {
   "cell_type": "code",
   "execution_count": null,
   "id": "062e86e2",
   "metadata": {},
   "outputs": [],
   "source": []
  },
  {
   "cell_type": "code",
   "execution_count": null,
   "id": "78b36130",
   "metadata": {},
   "outputs": [],
   "source": []
  },
  {
   "cell_type": "code",
   "execution_count": null,
   "id": "13128af6",
   "metadata": {},
   "outputs": [],
   "source": []
  },
  {
   "cell_type": "code",
   "execution_count": null,
   "id": "630a75ee",
   "metadata": {},
   "outputs": [],
   "source": []
  },
  {
   "cell_type": "markdown",
   "id": "bf8d9bdf",
   "metadata": {},
   "source": [
    "### some drafts"
   ]
  },
  {
   "cell_type": "code",
   "execution_count": 20,
   "id": "7d641ef1",
   "metadata": {},
   "outputs": [
    {
     "name": "stdout",
     "output_type": "stream",
     "text": [
      "odict_keys(['logits', 'past_key_values'])\n",
      "torch.Size([1, 1, 1003])\n"
     ]
    },
    {
     "data": {
      "text/plain": [
       "torch.Size([1, 1, 1003])"
      ]
     },
     "execution_count": 20,
     "metadata": {},
     "output_type": "execute_result"
    }
   ],
   "source": [
    "idx = torch.tensor([\n",
    "    [0, 1, 102],\n",
    "#     [0, 234, 88]\n",
    "])\n",
    "\n",
    "idx = torch.tensor([[0]])\n",
    "q = model.forward(idx.to(device), labels=None, attention_mask=torch.ones_like(idx).to(device))\n",
    "\n",
    "print(q.keys())\n",
    "print(q.logits.shape)\n",
    "logits = q.logits\n",
    "logsoftmax(logits[0][0])\n",
    "\n",
    "P = logsoftmax(logits)\n",
    "P.shape"
   ]
  },
  {
   "cell_type": "code",
   "execution_count": 6,
   "id": "2d7bd2a9",
   "metadata": {},
   "outputs": [],
   "source": [
    "# !pip show transformers"
   ]
  },
  {
   "cell_type": "code",
   "execution_count": null,
   "id": "eb5f658c",
   "metadata": {},
   "outputs": [],
   "source": [
    "n = 10\n",
    "\n",
    "# tokenizer = AutoTokenizer.from_pretrained(\"gpt2\", add_special_tokens=True)\n",
    "# # add the EOS token as PAD token to avoid warnings\n",
    "# tokenizer.pad_token_id = tokenizer.eos_token_id\n",
    "model = AutoModelForCausalLM.from_pretrained(\"gpt2\", pad_token_id=0).to(device)\n",
    "model.resize_token_embeddings(1 + n)\n",
    "model.eval()\n",
    "2-2"
   ]
  },
  {
   "cell_type": "code",
   "execution_count": 8,
   "id": "fe146939",
   "metadata": {},
   "outputs": [],
   "source": [
    "# # encode context the generation is conditioned on\n",
    "# model_inputs = tokenizer('1 + 2', return_tensors='pt').to(device)\n",
    "# print(model_inputs)\n",
    "\n",
    "# # generate 40 new tokens\n",
    "# greedy_output = model.generate(**model_inputs, max_new_tokens=40)\n",
    "# print(f\"Greedy output {greedy_output}\")\n",
    "\n",
    "# print(\"Output:\\n\" + 100 * '-')\n",
    "# print(tokenizer.decode(greedy_output[0], skip_special_tokens=True))"
   ]
  },
  {
   "cell_type": "code",
   "execution_count": 9,
   "id": "aa65861e",
   "metadata": {},
   "outputs": [
    {
     "name": "stderr",
     "output_type": "stream",
     "text": [
      "/usr/local/lib/python3.10/dist-packages/transformers/generation/utils.py:1473: UserWarning: You have modified the pretrained model configuration to control generation. This is a deprecated strategy to control generation and will be removed soon, in a future version. Please use and modify the model generation configuration (see https://huggingface.co/docs/transformers/generation_strategies#default-text-generation-configuration )\n",
      "  warnings.warn(\n",
      "/usr/local/lib/python3.10/dist-packages/transformers/generation/configuration_utils.py:437: UserWarning: `num_beams` is set to 1. However, `length_penalty` is set to `0` -- this flag is only used in beam-based generation modes. You should set `num_beams>1` or unset `length_penalty`.\n",
      "  warnings.warn(\n",
      "A decoder-only architecture is being used, but right-padding was detected! For correct generation results, please set `padding_side='left'` when initializing the tokenizer.\n"
     ]
    }
   ],
   "source": [
    "q = torch.tensor([[0]]).to(device)\n",
    "# inp = {\"input_ids\": q, \"attention_mask\"}\n",
    "# multinomial sampling\n",
    "greedy_output = model.generate(q, max_new_tokens=2, num_beams=1,\n",
    "                               output_scores=True,\n",
    "                               return_dict_in_generate=True, \n",
    "                               renormalize_logits=True, \n",
    "                            num_return_sequences=5, do_sample=True, \n",
    "                                output_hidden_states=True,\n",
    "                                top_k=0,\n",
    "                               temperature=0.6,\n",
    "                               length_penalty=0,\n",
    "                              )\n",
    "#scores = torch.cat(greedy_output.scores)\n",
    "idx = greedy_output.sequences"
   ]
  },
  {
   "cell_type": "code",
   "execution_count": 10,
   "id": "660e02b9",
   "metadata": {},
   "outputs": [
    {
     "data": {
      "text/plain": [
       "tensor([[0, 0, 1],\n",
       "        [0, 0, 0],\n",
       "        [0, 0, 0],\n",
       "        [0, 0, 0],\n",
       "        [0, 0, 0]], device='cuda:0')"
      ]
     },
     "execution_count": 10,
     "metadata": {},
     "output_type": "execute_result"
    }
   ],
   "source": [
    "idx"
   ]
  },
  {
   "cell_type": "code",
   "execution_count": 11,
   "id": "03edf004",
   "metadata": {},
   "outputs": [],
   "source": [
    "softmax = torch.nn.Softmax(dim=-1)"
   ]
  },
  {
   "cell_type": "code",
   "execution_count": 12,
   "id": "8a583fb0",
   "metadata": {},
   "outputs": [
    {
     "name": "stderr",
     "output_type": "stream",
     "text": [
      "We strongly recommend passing in an `attention_mask` since your input_ids may be padded. See https://huggingface.co/docs/transformers/troubleshooting#incorrect-output-when-padding-tokens-arent-masked.\n"
     ]
    },
    {
     "name": "stdout",
     "output_type": "stream",
     "text": [
      "odict_keys(['logits', 'past_key_values'])\n"
     ]
    }
   ],
   "source": [
    "z = model.forward(q)\n",
    "print(z.keys())"
   ]
  },
  {
   "cell_type": "code",
   "execution_count": 13,
   "id": "0ef623d2",
   "metadata": {},
   "outputs": [
    {
     "data": {
      "text/plain": [
       "torch.Size([1, 1, 11])"
      ]
     },
     "execution_count": 13,
     "metadata": {},
     "output_type": "execute_result"
    }
   ],
   "source": [
    "z.logits.shape"
   ]
  },
  {
   "cell_type": "code",
   "execution_count": 14,
   "id": "25551bb3",
   "metadata": {},
   "outputs": [],
   "source": [
    "scores = model.compute_transition_scores(\n",
    "    sequences=greedy_output.sequences,\n",
    "    scores=greedy_output.scores,\n",
    "\n",
    "#     beam_indices=greedy_output.beam_indices,\n",
    ")"
   ]
  },
  {
   "cell_type": "code",
   "execution_count": 15,
   "id": "890137fd",
   "metadata": {},
   "outputs": [
    {
     "data": {
      "text/plain": [
       "tensor([[0.8508, 0.1492],\n",
       "        [0.7090, 0.2910],\n",
       "        [0.7090, 0.2910],\n",
       "        [0.7090, 0.2910],\n",
       "        [0.7090, 0.2910]], device='cuda:0')"
      ]
     },
     "execution_count": 15,
     "metadata": {},
     "output_type": "execute_result"
    }
   ],
   "source": [
    "softmax(scores)"
   ]
  },
  {
   "cell_type": "code",
   "execution_count": 16,
   "id": "5fe64cea",
   "metadata": {},
   "outputs": [
    {
     "data": {
      "text/plain": [
       "odict_keys(['sequences', 'scores', 'hidden_states'])"
      ]
     },
     "execution_count": 16,
     "metadata": {},
     "output_type": "execute_result"
    }
   ],
   "source": [
    "greedy_output.keys()"
   ]
  },
  {
   "cell_type": "code",
   "execution_count": 17,
   "id": "496fe8a0",
   "metadata": {},
   "outputs": [
    {
     "data": {
      "text/plain": [
       "tensor([0, 0, 0], device='cuda:0')"
      ]
     },
     "execution_count": 17,
     "metadata": {},
     "output_type": "execute_result"
    }
   ],
   "source": [
    "greedy_output.sequences[-1]"
   ]
  },
  {
   "cell_type": "code",
   "execution_count": 18,
   "id": "f707cb5e",
   "metadata": {},
   "outputs": [
    {
     "data": {
      "text/plain": [
       "(tensor([[  0.0000, -21.3255, -32.1786, -33.3579, -22.9971, -26.4076, -17.0534,\n",
       "          -24.9093, -21.2638, -22.4059, -21.0662],\n",
       "         [  0.0000, -21.3255, -32.1786, -33.3579, -22.9971, -26.4076, -17.0534,\n",
       "          -24.9093, -21.2638, -22.4059, -21.0662],\n",
       "         [  0.0000, -21.3255, -32.1786, -33.3579, -22.9971, -26.4076, -17.0534,\n",
       "          -24.9093, -21.2638, -22.4059, -21.0662],\n",
       "         [  0.0000, -21.3255, -32.1786, -33.3579, -22.9971, -26.4076, -17.0534,\n",
       "          -24.9093, -21.2638, -22.4059, -21.0662],\n",
       "         [  0.0000, -21.3255, -32.1786, -33.3579, -22.9971, -26.4076, -17.0534,\n",
       "          -24.9093, -21.2638, -22.4059, -21.0662]], device='cuda:0'),\n",
       " tensor([[-0.8904, -1.7407, -5.4421, -5.5557, -4.5824, -5.7360, -2.2392, -3.1334,\n",
       "          -1.5789, -3.7138, -4.4431],\n",
       "         [-0.8904, -1.7407, -5.4421, -5.5557, -4.5824, -5.7360, -2.2392, -3.1334,\n",
       "          -1.5789, -3.7138, -4.4431],\n",
       "         [-0.8904, -1.7407, -5.4421, -5.5557, -4.5824, -5.7360, -2.2392, -3.1334,\n",
       "          -1.5789, -3.7138, -4.4431],\n",
       "         [-0.8904, -1.7407, -5.4421, -5.5557, -4.5824, -5.7360, -2.2392, -3.1334,\n",
       "          -1.5789, -3.7138, -4.4431],\n",
       "         [-0.8904, -1.7407, -5.4421, -5.5557, -4.5824, -5.7360, -2.2392, -3.1334,\n",
       "          -1.5789, -3.7138, -4.4431]], device='cuda:0'))"
      ]
     },
     "execution_count": 18,
     "metadata": {},
     "output_type": "execute_result"
    }
   ],
   "source": [
    "greedy_output.scores"
   ]
  },
  {
   "cell_type": "code",
   "execution_count": 20,
   "id": "163e8805",
   "metadata": {},
   "outputs": [
    {
     "data": {
      "text/plain": [
       "torch.Size([5, 11])"
      ]
     },
     "execution_count": 20,
     "metadata": {},
     "output_type": "execute_result"
    }
   ],
   "source": [
    "greedy_output.scores[1].shape"
   ]
  },
  {
   "cell_type": "code",
   "execution_count": 21,
   "id": "ab8f21d5",
   "metadata": {},
   "outputs": [
    {
     "data": {
      "text/plain": [
       "torch.Size([5, 1, 768])"
      ]
     },
     "execution_count": 21,
     "metadata": {},
     "output_type": "execute_result"
    }
   ],
   "source": [
    "greedy_output.hidden_states[0][0].shape"
   ]
  },
  {
   "cell_type": "code",
   "execution_count": 22,
   "id": "b705e0e2",
   "metadata": {},
   "outputs": [
    {
     "data": {
      "text/plain": [
       "tensor(1., device='cuda:0')"
      ]
     },
     "execution_count": 22,
     "metadata": {},
     "output_type": "execute_result"
    }
   ],
   "source": [
    "torch.exp(greedy_output.scores[0][0]).sum()"
   ]
  },
  {
   "cell_type": "code",
   "execution_count": 23,
   "id": "2f90691e",
   "metadata": {},
   "outputs": [
    {
     "data": {
      "text/plain": [
       "torch.Size([5, 11])"
      ]
     },
     "execution_count": 23,
     "metadata": {},
     "output_type": "execute_result"
    }
   ],
   "source": [
    "greedy_output.scores[0].shape"
   ]
  },
  {
   "cell_type": "code",
   "execution_count": 24,
   "id": "f80f1715",
   "metadata": {},
   "outputs": [
    {
     "data": {
      "text/plain": [
       "torch.Size([5, 1, 768])"
      ]
     },
     "execution_count": 24,
     "metadata": {},
     "output_type": "execute_result"
    }
   ],
   "source": [
    "greedy_output.hidden_states[0][0].shape"
   ]
  },
  {
   "cell_type": "code",
   "execution_count": 25,
   "id": "c4a25431",
   "metadata": {},
   "outputs": [
    {
     "ename": "AttributeError",
     "evalue": "'SampleDecoderOnlyOutput' object has no attribute 'sequences_scores'",
     "output_type": "error",
     "traceback": [
      "\u001b[0;31m---------------------------------------------------------------------------\u001b[0m",
      "\u001b[0;31mAttributeError\u001b[0m                            Traceback (most recent call last)",
      "Cell \u001b[0;32mIn[25], line 1\u001b[0m\n\u001b[0;32m----> 1\u001b[0m probs \u001b[38;5;241m=\u001b[39m \u001b[43mgreedy_output\u001b[49m\u001b[38;5;241;43m.\u001b[39;49m\u001b[43msequences_scores\u001b[49m()\n",
      "\u001b[0;31mAttributeError\u001b[0m: 'SampleDecoderOnlyOutput' object has no attribute 'sequences_scores'"
     ]
    }
   ],
   "source": [
    "probs = greedy_output.sequences_scores()"
   ]
  },
  {
   "cell_type": "code",
   "execution_count": 26,
   "id": "1972b576",
   "metadata": {},
   "outputs": [],
   "source": [
    "P = greedy_output.scores"
   ]
  },
  {
   "cell_type": "code",
   "execution_count": 27,
   "id": "824d42e9",
   "metadata": {},
   "outputs": [
    {
     "data": {
      "text/plain": [
       "torch.Size([5, 11])"
      ]
     },
     "execution_count": 27,
     "metadata": {},
     "output_type": "execute_result"
    }
   ],
   "source": [
    "P[0].shape"
   ]
  },
  {
   "cell_type": "code",
   "execution_count": 28,
   "id": "a0ad91f1",
   "metadata": {},
   "outputs": [
    {
     "ename": "NameError",
     "evalue": "name 'probs' is not defined",
     "output_type": "error",
     "traceback": [
      "\u001b[0;31m---------------------------------------------------------------------------\u001b[0m",
      "\u001b[0;31mNameError\u001b[0m                                 Traceback (most recent call last)",
      "Cell \u001b[0;32mIn[28], line 1\u001b[0m\n\u001b[0;32m----> 1\u001b[0m \u001b[43mprobs\u001b[49m\n",
      "\u001b[0;31mNameError\u001b[0m: name 'probs' is not defined"
     ]
    }
   ],
   "source": [
    "probs"
   ]
  },
  {
   "cell_type": "code",
   "execution_count": null,
   "id": "3fa1184c",
   "metadata": {},
   "outputs": [],
   "source": []
  },
  {
   "cell_type": "code",
   "execution_count": null,
   "id": "6c831481",
   "metadata": {},
   "outputs": [],
   "source": []
  },
  {
   "cell_type": "code",
   "execution_count": 40,
   "id": "04486ef8",
   "metadata": {},
   "outputs": [
    {
     "data": {
      "text/plain": [
       "2"
      ]
     },
     "execution_count": 40,
     "metadata": {},
     "output_type": "execute_result"
    }
   ],
   "source": [
    "model.eval()\n",
    "2"
   ]
  },
  {
   "cell_type": "code",
   "execution_count": 41,
   "id": "a845f572",
   "metadata": {},
   "outputs": [
    {
     "name": "stderr",
     "output_type": "stream",
     "text": [
      "The attention mask and the pad token id were not set. As a consequence, you may observe unexpected behavior. Please pass your input's `attention_mask` to obtain reliable results.\n",
      "Setting `pad_token_id` to `eos_token_id`:50256 for open-end generation.\n"
     ]
    }
   ],
   "source": [
    "q = torch.tensor([[0]]).to(device)\n",
    "\n",
    "outputs =  model.generate(\n",
    "            q, \n",
    "            max_new_tokens=d,\n",
    "#             trace_log_probs=True,\n",
    "            do_sample=True,\n",
    "            num_beams=1,\n",
    "            num_return_sequences=k,\n",
    "            top_k=0,\n",
    "            temperature=0.6,\n",
    "            length_penalty=0,\n",
    "\n",
    "            output_scores=True,\n",
    "            return_dict_in_generate=True, \n",
    "            renormalize_logits=True, \n",
    "            output_hidden_states=True,\n",
    "        )"
   ]
  },
  {
   "cell_type": "code",
   "execution_count": 42,
   "id": "f35add16",
   "metadata": {},
   "outputs": [
    {
     "ename": "ValueError",
     "evalue": "If `eos_token_id` is defined, make sure that `pad_token_id` is defined.",
     "output_type": "error",
     "traceback": [
      "\u001b[0;31m---------------------------------------------------------------------------\u001b[0m",
      "\u001b[0;31mValueError\u001b[0m                                Traceback (most recent call last)",
      "Cell \u001b[0;32mIn[42], line 5\u001b[0m\n\u001b[1;32m      3\u001b[0m model \u001b[38;5;241m=\u001b[39m model\u001b[38;5;241m.\u001b[39mto(device)\n\u001b[1;32m      4\u001b[0m q \u001b[38;5;241m=\u001b[39m q\u001b[38;5;241m.\u001b[39mto(device)\n\u001b[0;32m----> 5\u001b[0m outputs \u001b[38;5;241m=\u001b[39m  \u001b[43mmodel\u001b[49m\u001b[38;5;241;43m.\u001b[39;49m\u001b[43mgreedy_search\u001b[49m\u001b[43m(\u001b[49m\n\u001b[1;32m      6\u001b[0m \u001b[43m            \u001b[49m\u001b[43mq\u001b[49m\u001b[43m,\u001b[49m\u001b[43m \u001b[49m\n\u001b[1;32m      7\u001b[0m \u001b[43m            \u001b[49m\u001b[43mmax_new_tokens\u001b[49m\u001b[38;5;241;43m=\u001b[39;49m\u001b[43md\u001b[49m\u001b[43m,\u001b[49m\n\u001b[1;32m      8\u001b[0m \u001b[43m\u001b[49m\u001b[38;5;66;43;03m#             trace_log_probs=True,\u001b[39;49;00m\n\u001b[1;32m      9\u001b[0m \u001b[43m            \u001b[49m\u001b[43mdo_sample\u001b[49m\u001b[38;5;241;43m=\u001b[39;49m\u001b[38;5;28;43;01mTrue\u001b[39;49;00m\u001b[43m,\u001b[49m\n\u001b[1;32m     10\u001b[0m \u001b[43m            \u001b[49m\u001b[43mnum_beams\u001b[49m\u001b[38;5;241;43m=\u001b[39;49m\u001b[38;5;241;43m1\u001b[39;49m\u001b[43m,\u001b[49m\n\u001b[1;32m     11\u001b[0m \u001b[43m            \u001b[49m\u001b[43mnum_return_sequences\u001b[49m\u001b[38;5;241;43m=\u001b[39;49m\u001b[43mk\u001b[49m\u001b[43m,\u001b[49m\n\u001b[1;32m     12\u001b[0m \u001b[43m            \u001b[49m\u001b[43mtop_k\u001b[49m\u001b[38;5;241;43m=\u001b[39;49m\u001b[38;5;241;43m0\u001b[39;49m\u001b[43m,\u001b[49m\n\u001b[1;32m     13\u001b[0m \u001b[43m            \u001b[49m\u001b[43mtemperature\u001b[49m\u001b[38;5;241;43m=\u001b[39;49m\u001b[38;5;241;43m0.6\u001b[39;49m\u001b[43m,\u001b[49m\n\u001b[1;32m     14\u001b[0m \u001b[43m            \u001b[49m\u001b[43mlength_penalty\u001b[49m\u001b[38;5;241;43m=\u001b[39;49m\u001b[38;5;241;43m0\u001b[39;49m\u001b[43m,\u001b[49m\n\u001b[1;32m     15\u001b[0m \n\u001b[1;32m     16\u001b[0m \u001b[43m            \u001b[49m\u001b[43moutput_scores\u001b[49m\u001b[38;5;241;43m=\u001b[39;49m\u001b[38;5;28;43;01mTrue\u001b[39;49;00m\u001b[43m,\u001b[49m\n\u001b[1;32m     17\u001b[0m \u001b[43m            \u001b[49m\u001b[43mreturn_dict_in_generate\u001b[49m\u001b[38;5;241;43m=\u001b[39;49m\u001b[38;5;28;43;01mTrue\u001b[39;49;00m\u001b[43m,\u001b[49m\u001b[43m \u001b[49m\n\u001b[1;32m     18\u001b[0m \u001b[43m            \u001b[49m\u001b[43mrenormalize_logits\u001b[49m\u001b[38;5;241;43m=\u001b[39;49m\u001b[38;5;28;43;01mTrue\u001b[39;49;00m\u001b[43m,\u001b[49m\u001b[43m \u001b[49m\n\u001b[1;32m     19\u001b[0m \u001b[43m            \u001b[49m\u001b[43moutput_hidden_states\u001b[49m\u001b[38;5;241;43m=\u001b[39;49m\u001b[38;5;28;43;01mTrue\u001b[39;49;00m\u001b[43m,\u001b[49m\n\u001b[1;32m     20\u001b[0m \u001b[43m        \u001b[49m\u001b[43m)\u001b[49m\n",
      "File \u001b[0;32m/usr/local/lib/python3.10/dist-packages/transformers/generation/utils.py:2560\u001b[0m, in \u001b[0;36mGenerationMixin.greedy_search\u001b[0;34m(self, input_ids, logits_processor, stopping_criteria, max_length, pad_token_id, eos_token_id, output_attentions, output_hidden_states, output_scores, return_dict_in_generate, synced_gpus, streamer, **model_kwargs)\u001b[0m\n\u001b[1;32m   2558\u001b[0m \u001b[38;5;28;01mif\u001b[39;00m eos_token_id \u001b[38;5;129;01mis\u001b[39;00m \u001b[38;5;129;01mnot\u001b[39;00m \u001b[38;5;28;01mNone\u001b[39;00m:\n\u001b[1;32m   2559\u001b[0m     \u001b[38;5;28;01mif\u001b[39;00m pad_token_id \u001b[38;5;129;01mis\u001b[39;00m \u001b[38;5;28;01mNone\u001b[39;00m:\n\u001b[0;32m-> 2560\u001b[0m         \u001b[38;5;28;01mraise\u001b[39;00m \u001b[38;5;167;01mValueError\u001b[39;00m(\u001b[38;5;124m\"\u001b[39m\u001b[38;5;124mIf `eos_token_id` is defined, make sure that `pad_token_id` is defined.\u001b[39m\u001b[38;5;124m\"\u001b[39m)\n\u001b[1;32m   2561\u001b[0m     next_tokens \u001b[38;5;241m=\u001b[39m next_tokens \u001b[38;5;241m*\u001b[39m unfinished_sequences \u001b[38;5;241m+\u001b[39m pad_token_id \u001b[38;5;241m*\u001b[39m (\u001b[38;5;241m1\u001b[39m \u001b[38;5;241m-\u001b[39m unfinished_sequences)\n\u001b[1;32m   2563\u001b[0m \u001b[38;5;66;03m# update generated ids, model inputs, and length for next step\u001b[39;00m\n",
      "\u001b[0;31mValueError\u001b[0m: If `eos_token_id` is defined, make sure that `pad_token_id` is defined."
     ]
    }
   ],
   "source": [
    "with torch.no_grad():\n",
    "    model.eval()\n",
    "    model = model.to(device)\n",
    "    q = q.to(device)\n",
    "    outputs =  model.greedy_search(\n",
    "                q, \n",
    "                max_new_tokens=d,\n",
    "    #             trace_log_probs=True,\n",
    "                do_sample=True,\n",
    "                num_beams=1,\n",
    "                num_return_sequences=k,\n",
    "                top_k=0,\n",
    "                temperature=0.6,\n",
    "                length_penalty=0,\n",
    "\n",
    "                output_scores=True,\n",
    "                return_dict_in_generate=True, \n",
    "                renormalize_logits=True, \n",
    "                output_hidden_states=True,\n",
    "            )"
   ]
  },
  {
   "cell_type": "code",
   "execution_count": 40,
   "id": "6296db69",
   "metadata": {},
   "outputs": [
    {
     "data": {
      "text/plain": [
       "odict_keys(['sequences', 'scores', 'hidden_states'])"
      ]
     },
     "execution_count": 40,
     "metadata": {},
     "output_type": "execute_result"
    }
   ],
   "source": [
    "outputs.keys()"
   ]
  },
  {
   "cell_type": "code",
   "execution_count": 41,
   "id": "015ab383",
   "metadata": {},
   "outputs": [
    {
     "name": "stdout",
     "output_type": "stream",
     "text": [
      "torch.Size([5, 50257]) torch.Size([5, 3])\n"
     ]
    }
   ],
   "source": [
    "p = outputs.scores[0]\n",
    "idx = outputs.sequences\n",
    "print(p.shape, idx.shape)"
   ]
  },
  {
   "cell_type": "code",
   "execution_count": 42,
   "id": "3bcefedb",
   "metadata": {},
   "outputs": [
    {
     "data": {
      "text/plain": [
       "tensor([0., 0.], device='cuda:0')"
      ]
     },
     "execution_count": 42,
     "metadata": {},
     "output_type": "execute_result"
    }
   ],
   "source": [
    "scores = model.compute_transition_scores(\n",
    "    sequences=outputs.sequences,\n",
    "    scores=outputs.scores,\n",
    "\n",
    "#     beam_indices=greedy_output.beam_indices,\n",
    ")\n",
    "scores[[1, 2]][:, -1]"
   ]
  },
  {
   "cell_type": "code",
   "execution_count": 43,
   "id": "9472078d",
   "metadata": {},
   "outputs": [
    {
     "data": {
      "text/plain": [
       "tensor([[0]], device='cuda:0')"
      ]
     },
     "execution_count": 43,
     "metadata": {},
     "output_type": "execute_result"
    }
   ],
   "source": [
    "q"
   ]
  },
  {
   "cell_type": "code",
   "execution_count": 19,
   "id": "929be4ac",
   "metadata": {},
   "outputs": [],
   "source": [
    "# outputs.sequences\n",
    "# I = outputs.sequences[:, 1:]\n",
    "# func(I)\n",
    "\n",
    "# _, idx = torch.topk(func(I), largest=is_max, k=k_top)\n",
    "\n",
    "# idx\n",
    "\n",
    "# func(I).argmin(2)"
   ]
  },
  {
   "cell_type": "code",
   "execution_count": 63,
   "id": "ce913b95",
   "metadata": {},
   "outputs": [
    {
     "data": {
      "text/plain": [
       "2"
      ]
     },
     "execution_count": 63,
     "metadata": {},
     "output_type": "execute_result"
    }
   ],
   "source": [
    "2"
   ]
  },
  {
   "cell_type": "code",
   "execution_count": null,
   "id": "d95288f4",
   "metadata": {},
   "outputs": [],
   "source": []
  },
  {
   "cell_type": "code",
   "execution_count": null,
   "id": "26f95a2f",
   "metadata": {},
   "outputs": [],
   "source": []
  },
  {
   "cell_type": "markdown",
   "id": "82b34a83",
   "metadata": {},
   "source": [
    "# Sources\n",
    "- https://huggingface.co/blog/how-to-generate\n",
    "- https://huggingface.co/docs/transformers/generation_strategies#default-text-generation-configuration\n",
    "- https://github.com/huggingface/transformers/issues/3720\n",
    "- https://discuss.huggingface.co/t/how-to-output-loss-from-model-generate/16999/7\n",
    "- https://github.com/huggingface/transformers/issues/15552 **try to read**\n",
    "- https://github.com/Vision-CAIR/MiniGPT-4/issues/129\n",
    "- https://stackoverflow.com/questions/45196631/how-to-upload-a-cloned-git-repository-to-an-own-git-repository-on-github"
   ]
  },
  {
   "cell_type": "code",
   "execution_count": null,
   "id": "bbde4581",
   "metadata": {},
   "outputs": [],
   "source": []
  },
  {
   "cell_type": "code",
   "execution_count": null,
   "id": "a02c9ba0",
   "metadata": {},
   "outputs": [],
   "source": []
  },
  {
   "cell_type": "code",
   "execution_count": null,
   "id": "a3b93e06",
   "metadata": {},
   "outputs": [],
   "source": []
  },
  {
   "cell_type": "code",
   "execution_count": null,
   "id": "fd4d24b7",
   "metadata": {},
   "outputs": [],
   "source": []
  },
  {
   "cell_type": "code",
   "execution_count": null,
   "id": "03dd6cfc",
   "metadata": {},
   "outputs": [],
   "source": []
  },
  {
   "cell_type": "code",
   "execution_count": null,
   "id": "a20aa518",
   "metadata": {},
   "outputs": [],
   "source": []
  },
  {
   "cell_type": "code",
   "execution_count": null,
   "id": "ada03fc2",
   "metadata": {},
   "outputs": [],
   "source": []
  },
  {
   "cell_type": "code",
   "execution_count": null,
   "id": "8fc53e7e",
   "metadata": {},
   "outputs": [],
   "source": []
  },
  {
   "cell_type": "code",
   "execution_count": null,
   "id": "a63b6866",
   "metadata": {},
   "outputs": [],
   "source": []
  },
  {
   "cell_type": "code",
   "execution_count": null,
   "id": "9815b663",
   "metadata": {},
   "outputs": [],
   "source": []
  },
  {
   "cell_type": "code",
   "execution_count": null,
   "id": "c23fbb2c",
   "metadata": {},
   "outputs": [],
   "source": []
  },
  {
   "cell_type": "markdown",
   "id": "f572c628",
   "metadata": {},
   "source": [
    "## Drafts, thrash"
   ]
  },
  {
   "cell_type": "code",
   "execution_count": null,
   "id": "6ce7fbf3",
   "metadata": {},
   "outputs": [],
   "source": [
    "\n",
    "\n",
    "# generate_with_grad = undecorated(model.generate)\n",
    "# model.generate_with_grad = MethodType(generate_with_grad, model)"
   ]
  },
  {
   "cell_type": "code",
   "execution_count": null,
   "id": "26666e7f",
   "metadata": {},
   "outputs": [],
   "source": [
    "from transformers import AutoTokenizer, AutoModelForSeq2SeqLM\n",
    "import torch\n",
    "\n",
    "model = AutoModelForSeq2SeqLM.from_pretrained('t5-small')\n",
    "tokenizer = AutoTokenizer.from_pretrained('t5-small')\n",
    "# \n",
    "input_ids = tokenizer(\"propose new indexes the previous were 30, 40\", return_tensors=\"pt\").input_ids\n",
    "# input_ids = torch.tensor([[0]])\n",
    "encoder_outputs = model.encoder(input_ids)\n",
    "\n",
    "decoder_input_ids = torch.ones_like(input_ids)[:, :1] * model.config.decoder_start_token_id\n",
    "model_kwargs = {\"encoder_outputs\": encoder_outputs}\n",
    "\n",
    "outputs = model.greedy_search(decoder_input_ids,\n",
    "                                encoder_outputs=encoder_outputs,\n",
    "                                max_new_tokens=d,\n",
    "                                do_sample=True,\n",
    "                                num_beams=1,\n",
    "                                num_return_sequences=k,\n",
    "                                top_k=0,\n",
    "                                temperature=0.6,\n",
    "                                length_penalty=0,\n",
    "\n",
    "                                output_scores=True,\n",
    "                                return_dict_in_generate=True, \n",
    "                                renormalize_logits=True, \n",
    "                                output_hidden_states=True,\n",
    "                               )\n",
    "\n",
    "print(\"Output:\", tokenizer.batch_decode(outputs.sequences))\n",
    "# => prints `['<pad> Heute ist ein schöner Tag.</s>']\n",
    "\n"
   ]
  },
  {
   "cell_type": "code",
   "execution_count": null,
   "id": "0047421d",
   "metadata": {},
   "outputs": [],
   "source": []
  },
  {
   "cell_type": "code",
   "execution_count": null,
   "id": "be5955cb",
   "metadata": {},
   "outputs": [],
   "source": [
    "from undecorated import undecorated\n",
    "from types import MethodType\n",
    "\n",
    "generate_with_grad = undecorated(model.generate)\n",
    "model.generate_with_grad = MethodType(generate_with_grad, model)\n",
    "\n",
    "\n",
    "sequences = model.greedy_search(decoder_input_ids, encoder_outputs=encoder_outputs, \n",
    "            max_new_tokens=d,\n",
    "\n",
    "            do_sample=True,\n",
    "            num_beams=1,\n",
    "            num_return_sequences=k,\n",
    "            top_k=0,\n",
    "            temperature=0.6,\n",
    "            length_penalty=0,\n",
    "\n",
    "            output_scores=True,\n",
    "            return_dict_in_generate=True, \n",
    "            renormalize_logits=True, \n",
    "            output_hidden_states=True,)\n",
    "\n",
    "# print(\"Output:\", tokenizer.batch_decode(sequences))\n",
    "# => prints `['<pad> Heute ist ein schöner Tag.</s>']\n",
    "\n",
    "\n",
    "encoder_outputs"
   ]
  },
  {
   "cell_type": "code",
   "execution_count": null,
   "id": "b1ebc8bb",
   "metadata": {},
   "outputs": [],
   "source": []
  }
 ],
 "metadata": {
  "kernelspec": {
   "display_name": "Python 3 (ipykernel)",
   "language": "python",
   "name": "python3"
  },
  "language_info": {
   "codemirror_mode": {
    "name": "ipython",
    "version": 3
   },
   "file_extension": ".py",
   "mimetype": "text/x-python",
   "name": "python",
   "nbconvert_exporter": "python",
   "pygments_lexer": "ipython3",
   "version": "3.10.12"
  }
 },
 "nbformat": 4,
 "nbformat_minor": 5
}
